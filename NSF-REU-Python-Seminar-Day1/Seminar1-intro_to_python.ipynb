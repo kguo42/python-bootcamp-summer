{
 "cells": [
  {
   "cell_type": "markdown",
   "metadata": {},
   "source": [
    "# <center> NSF REU 2023 - Introduction to Python Day 1 </center>\n",
    "### <center>  written by Jackie Champagne (University of Arizona) , Oscar Chavez Ortiz and Kay Guo (UT Austin)  </center>\n",
    "\n",
    "# Day1: Basics, Syntax, Variables & Arrays"
   ]
  },
  {
   "cell_type": "markdown",
   "metadata": {},
   "source": [
    "We have some exercises for you ranging from the most basic tasks to some more advanced plotting techniques that will be helpful to you in astronomy. \n",
    "\n",
    "The Jupyter notebook is an interactive browser interface for Python, allowing you to write and edit programs all in one notebook. The whole notebook is automatically saved periodically, but you can also save the outputs from your code as text files, plots, or images separate from the notebook. It is a great tool when you are building code from scratch and want to troubleshoot it or make a quick plot.\n",
    "\n",
    "This series of notebooks is meant to be self-guided, so no lecture is strictly required. However, the goal of this workshop is to acquaint you with working together on research problems. If you are attending this workshop live, the Questions in this notebook are meant to be a short few lines of code which you will do individually throughout the workshop. \n",
    "\n",
    "### Let's get started!\n"
   ]
  },
  {
   "cell_type": "markdown",
   "metadata": {},
   "source": [
    "## Setting Variables\n",
    "\n",
    "To set a definition, use =. "
   ]
  },
  {
   "cell_type": "code",
   "execution_count": 2,
   "metadata": {},
   "outputs": [],
   "source": [
    "# when your code start with a '#', it means this is a comment. When executing code, python doesn't read comments.\n",
    "a = 1\n",
    "b = 2"
   ]
  },
  {
   "cell_type": "markdown",
   "metadata": {},
   "source": [
    "Now Python will always know that <b>a is 1 </b> in this notebook, i.e., variable a is assigned value 1. Setting variables is useful for things like constants, such as <b> c = 3.0e8 </b>. To check that this worked, we can print it out. The syntax for printing something is print(thing_you_want_to_print). \n",
    "\n",
    "Alternatively, you can call the variable by just typing its name, which will show it as an output."
   ]
  },
  {
   "cell_type": "code",
   "execution_count": 3,
   "metadata": {},
   "outputs": [
    {
     "name": "stdout",
     "output_type": "stream",
     "text": [
      "1\n"
     ]
    }
   ],
   "source": [
    "print(a)"
   ]
  },
  {
   "cell_type": "code",
   "execution_count": 4,
   "metadata": {},
   "outputs": [
    {
     "data": {
      "text/plain": [
       "1"
      ]
     },
     "execution_count": 4,
     "metadata": {},
     "output_type": "execute_result"
    }
   ],
   "source": [
    "a"
   ]
  },
  {
   "cell_type": "markdown",
   "metadata": {},
   "source": [
    "## Variable types\n",
    "\n",
    "There are 4 kinds of variables in Python: strings, floats, integers and booleans. \n",
    "\n",
    "A **floating point value (float)** is a number followed by a decimal. <br>\n",
    "An **integer** is a whole number, and is required for discrete categories such as indexing (you can have entry 5 in an array, but not entry 5.5). <br>\n",
    "A **string** has quotes around it and is treated as a word rather than a numeric value.<br>\n",
    "**Booleans** are values containing True or False. <br>"
   ]
  },
  {
   "cell_type": "code",
   "execution_count": 4,
   "metadata": {},
   "outputs": [],
   "source": [
    "#Example of a float\n",
    "\n",
    "pi = 3.24259\n",
    "float_15 = 15.0\n",
    "\n",
    "#Example of an int\n",
    "\n",
    "integer = 15\n",
    "\n",
    "#Example of a string\n",
    "\n",
    "sentence = 'I am a string'\n",
    "sentence2 = \"This is also a string\"\n",
    "string_15 = '15'\n",
    "\n",
    "#example of a bool\n",
    "# Note that the 'True' and 'False' are shown green, if it's not green, check the spelling.\n",
    "\n",
    "facts = True\n",
    "fake_news = False"
   ]
  },
  {
   "cell_type": "markdown",
   "metadata": {},
   "source": [
    "# Boolean Logic\n",
    "\n",
    "The next data type we will encounter is called Boolean, which is a fancy word for saying truth values and truth values can be either $\\textbf{True}$ or $\\textbf{False}$. \n",
    "\n",
    "With Boolean logic we can subselect certain sources based off of their physical characteristics, such as a galaxy mass, star type, orbital period or by date of observations. Boolean logic is everywhere in astronomy and knowing how to use them is invaluable for acquiring a final sample for your analysis. \n",
    "\n",
    "Within boolean logic there are compound statements where you take 2 or more boolean expression and evaluate them to get a final boolean expression and these compund statements come in 2 types: $\\textbf{OR}$ and $\\textbf{AND}$.\n",
    "\n",
    "$\\textbf{OR}$ statements: statement is TRUE if statement A is true, statement B is true, or both statements are true; statement is FALSE if both statements A and B are false.\n",
    "\n",
    "$\\textbf{AND}$ statements: statement is TRUE if and only if both A and B are true; statement is FALSE if one or both is false.\n",
    "\n",
    "In Python you have to be explicit about the boolean statement so the phrase \"a == 1 or 2\" does not make sense within python. For Python to understand the statement you must write it out as \"a == 1 or a == 2\" such that they are independent clauses."
   ]
  },
  {
   "cell_type": "code",
   "execution_count": null,
   "metadata": {},
   "outputs": [],
   "source": [
    "a == 1\n",
    "#try print(a==1)\n"
   ]
  },
  {
   "cell_type": "code",
   "execution_count": 3,
   "metadata": {},
   "outputs": [
    {
     "data": {
      "text/plain": [
       "False"
      ]
     },
     "execution_count": 3,
     "metadata": {},
     "output_type": "execute_result"
    }
   ],
   "source": [
    "a == 2"
   ]
  },
  {
   "cell_type": "code",
   "execution_count": null,
   "metadata": {},
   "outputs": [],
   "source": [
    "a == 1 or a == 2"
   ]
  },
  {
   "cell_type": "code",
   "execution_count": null,
   "metadata": {},
   "outputs": [],
   "source": [
    "a == 1 and a == 2"
   ]
  },
  {
   "cell_type": "code",
   "execution_count": null,
   "metadata": {},
   "outputs": [],
   "source": [
    "a == 1 or b == 2"
   ]
  },
  {
   "cell_type": "code",
   "execution_count": 6,
   "metadata": {},
   "outputs": [
    {
     "name": "stdout",
     "output_type": "stream",
     "text": [
      "False\n",
      "False\n",
      "False\n",
      "False\n"
     ]
    }
   ],
   "source": [
    "integer = 15\n",
    "\n",
    "#Example of a string\n",
    "\n",
    "sentence = 'I am a string'\n",
    "sentence2 = \"This is also a string\"\n",
    "string_15 = '15'\n",
    "\n",
    "# Let's also have a look for the boolean logic of different varibles\n",
    "\n",
    "print(sentence == sentence2)\n",
    "print(facts == sentence)\n",
    "print(pi == integer)\n",
    "\n",
    "# Note: even though the values look the same\n",
    "# They are not equal if they are different data types\n",
    "\n",
    "print(integer == string_15)"
   ]
  },
  {
   "cell_type": "code",
   "execution_count": 51,
   "metadata": {},
   "outputs": [
    {
     "name": "stdout",
     "output_type": "stream",
     "text": [
      "True\n"
     ]
    }
   ],
   "source": [
    "#NOTE: Careful when using equal (==) between an int and float sometimes you will get weird results\n",
    "#print this out and see what you get\n",
    "\n",
    "# A double-precision floating-point number has 53 bits for the significand (also known as the mantissa), which translates to about 15-17 significant decimal digits\n",
    "print(12-12.0000000000000001== 0)"
   ]
  },
  {
   "cell_type": "code",
   "execution_count": 56,
   "metadata": {},
   "outputs": [
    {
     "name": "stdout",
     "output_type": "stream",
     "text": [
      "a: 12\n",
      "b: 12.0\n",
      "Result of a - b: 0.0\n",
      "Is result zero? True\n",
      " --------------------------------------\n",
      " ----  Use Decimal  -------\n",
      " --------------------------------------\n",
      "a: 12.00\n",
      "b: 12.0000000000000000001\n",
      "Result of a - b: -1E-19\n",
      "Is result zero? False\n"
     ]
    }
   ],
   "source": [
    "a = 12\n",
    "b = 12.0000000000000000001\n",
    "result = a - b\n",
    "\n",
    "print(f\"a: {a}\")\n",
    "print(f\"b: {b}\")\n",
    "print(f\"Result of a - b: {result}\")\n",
    "print(f\"Is result zero? {result == 0}\")\n",
    "\n",
    "\n",
    "print(' --------------------------------------')\n",
    "print(' ----  Use Decimal  -------')\n",
    "print(' --------------------------------------')\n",
    "\n",
    "from decimal import Decimal, getcontext\n",
    "\n",
    "# Set the precision to a high value\n",
    "getcontext().prec = 30\n",
    "\n",
    "# Define the numbers with high precision\n",
    "a = Decimal('12.00')\n",
    "b = Decimal('12.0000000000000000001')\n",
    "\n",
    "# Perform the subtraction\n",
    "result = a - b\n",
    "\n",
    "# Print the results\n",
    "print(f\"a: {a}\")\n",
    "print(f\"b: {b}\")\n",
    "print(f\"Result of a - b: {result}\")\n",
    "print(f\"Is result zero? {result == 0}\")"
   ]
  },
  {
   "cell_type": "markdown",
   "metadata": {},
   "source": [
    "### Be careful on variable names so you don't overwrite your variables if you don't plan to\n",
    "    Each variable has a variable name and can be redefined through out the script. Try the following example to see what value you'll get for variable test_variable"
   ]
  },
  {
   "cell_type": "code",
   "execution_count": null,
   "metadata": {},
   "outputs": [],
   "source": [
    "test_variable = 10\n",
    "test_variable = 10*2\n",
    "print('Value of test_variable is ', test_variable)"
   ]
  },
  {
   "cell_type": "markdown",
   "metadata": {},
   "source": [
    "# Converting between data types"
   ]
  },
  {
   "cell_type": "markdown",
   "metadata": {},
   "source": [
    "You can convert between variable types if necessary, using the following commands:\n",
    "\n",
    "    int():         int() will attempt to convert the value provided into an integer and note that it *does not round*.\n",
    "    \n",
    "    float():       float() will attempt to convert the value provided into a float. For integers this entails adding an .0 \n",
    "                   to the number which sounds pointless but is sometimes necessary for Python arithmetic.\n",
    "                   \n",
    "    str():         str() will put quotes around the input value so that Python reads it literally."
   ]
  },
  {
   "cell_type": "code",
   "execution_count": null,
   "metadata": {},
   "outputs": [],
   "source": [
    "#Examples of int conversion\n",
    "pi = 3.14\n",
    "\n",
    "int_pi = int(pi)\n",
    "\n",
    "print(int_pi)\n",
    "\n",
    "string_10 = '10'\n",
    "\n",
    "int_10 = int(string_10)\n",
    "\n",
    "print(int_10)"
   ]
  },
  {
   "cell_type": "code",
   "execution_count": null,
   "metadata": {},
   "outputs": [],
   "source": [
    "#Do you think this one would work?\n",
    "sentence = 'Python is Awesome :D!!'\n",
    "\n",
    "int_sentence = int(sentence)\n",
    "print(int_sentence)"
   ]
  },
  {
   "cell_type": "markdown",
   "metadata": {},
   "source": [
    "## Python arithmetic\n",
    "\n",
    "The syntax for arithmetic are the following:\n",
    "\n",
    "    + add\n",
    "    \n",
    "    - subtract\n",
    "    \n",
    "    * multiply\n",
    "    \n",
    "    / divide\n",
    "    \n",
    "    ** power\n",
    "    \n",
    "    % the remainder when i is divided by j\n",
    "\n",
    "    // floor division\n",
    "    "
   ]
  },
  {
   "cell_type": "code",
   "execution_count": 57,
   "metadata": {},
   "outputs": [
    {
     "name": "stdout",
     "output_type": "stream",
     "text": [
      "8\n"
     ]
    }
   ],
   "source": [
    "example = 5 + 3\n",
    "print(example)"
   ]
  },
  {
   "cell_type": "code",
   "execution_count": 58,
   "metadata": {},
   "outputs": [],
   "source": [
    "i = 1.2 \n",
    "j = 2.43"
   ]
  },
  {
   "cell_type": "code",
   "execution_count": 59,
   "metadata": {},
   "outputs": [
    {
     "data": {
      "text/plain": [
       "3.63"
      ]
     },
     "execution_count": 59,
     "metadata": {},
     "output_type": "execute_result"
    }
   ],
   "source": [
    "i + j"
   ]
  },
  {
   "cell_type": "code",
   "execution_count": 60,
   "metadata": {},
   "outputs": [
    {
     "data": {
      "text/plain": [
       "2.916"
      ]
     },
     "execution_count": 60,
     "metadata": {},
     "output_type": "execute_result"
    }
   ],
   "source": [
    "i * j"
   ]
  },
  {
   "cell_type": "code",
   "execution_count": 61,
   "metadata": {},
   "outputs": [
    {
     "data": {
      "text/plain": [
       "1.2300000000000002"
      ]
     },
     "execution_count": 61,
     "metadata": {},
     "output_type": "execute_result"
    }
   ],
   "source": [
    "j - i"
   ]
  },
  {
   "cell_type": "code",
   "execution_count": 62,
   "metadata": {},
   "outputs": [
    {
     "data": {
      "text/plain": [
       "0.49382716049382713"
      ]
     },
     "execution_count": 62,
     "metadata": {},
     "output_type": "execute_result"
    }
   ],
   "source": [
    "i / j "
   ]
  },
  {
   "cell_type": "code",
   "execution_count": 63,
   "metadata": {},
   "outputs": [
    {
     "data": {
      "text/plain": [
       "0.0"
      ]
     },
     "execution_count": 63,
     "metadata": {},
     "output_type": "execute_result"
    }
   ],
   "source": [
    "i // j "
   ]
  },
  {
   "cell_type": "code",
   "execution_count": 64,
   "metadata": {},
   "outputs": [
    {
     "data": {
      "text/plain": [
       "1.5574367844291501"
      ]
     },
     "execution_count": 64,
     "metadata": {},
     "output_type": "execute_result"
    }
   ],
   "source": [
    "i**j"
   ]
  },
  {
   "cell_type": "code",
   "execution_count": 65,
   "metadata": {},
   "outputs": [
    {
     "data": {
      "text/plain": [
       "0.03000000000000025"
      ]
     },
     "execution_count": 65,
     "metadata": {},
     "output_type": "execute_result"
    }
   ],
   "source": [
    "j%i"
   ]
  },
  {
   "cell_type": "markdown",
   "metadata": {},
   "source": [
    "### How to do a log10()? -> Let's import packages !"
   ]
  },
  {
   "cell_type": "markdown",
   "metadata": {},
   "source": [
    "\n",
    "To be able to do more complex things, you can also try use packages. Package is a collection of functions and commands. What you'll need to do when writing any code is import the packages you expect to use. You can put your imports anywhere, as long as it's written somewhere before calling a function from the package, but it's cleaner and good coding practice to put them all at the top of your script/notebook. \n",
    "\n",
    "For this tutorial, let's import numpy, which is an external library containing most mathematical functions you will use. To run the code in a cell, press SHIFT+ENTER.\n",
    "\n",
    "To comment your code, put a hashtag in front of your comment. "
   ]
  },
  {
   "cell_type": "code",
   "execution_count": 2,
   "metadata": {},
   "outputs": [],
   "source": [
    "import numpy as np #'import' loads up the package. \n",
    "#you can use 'as' to define a shortcut so you don't need to type\n",
    "#numpy before every use of the package. Most people use 'np'.\n",
    "\n",
    "import math\n",
    "\n",
    "import matplotlib.pyplot as plt\n",
    "\n",
    "from scipy import integrate #'from' allows you to import a specific sub-package\n",
    "\n",
    "from astropy.table import * # the '*' sign means everything in that pacakge, and when you call function, you can call the name directly"
   ]
  },
  {
   "cell_type": "markdown",
   "metadata": {},
   "source": [
    "# To look what functions are in a package:"
   ]
  },
  {
   "cell_type": "markdown",
   "metadata": {},
   "source": [
    "You can search for the corresponding website <br>\n",
    "E.g. for 'astropy.table', you can check: https://docs.astropy.org/en/stable/table/index.html <br>\n",
    "$\\textbf{Or}$ You can use 'help()' to look into a package, run the cell below and check what 'FUNCTIONS' are avaliable in this pacakge"
   ]
  },
  {
   "cell_type": "code",
   "execution_count": 77,
   "metadata": {},
   "outputs": [],
   "source": [
    "#You can use 'help()' to look into a package\n",
    "#run this cell and check what functions are avaliable in this pacakge\n",
    "\n",
    "#help(math)"
   ]
  },
  {
   "cell_type": "code",
   "execution_count": 68,
   "metadata": {},
   "outputs": [
    {
     "name": "stdout",
     "output_type": "stream",
     "text": [
      "log10(10) is  1.0\n",
      "ln(10) or log(10) is  2.302585092994046\n",
      "pi is  3.141592653589793\n",
      "e is   2.718281828459045\n",
      "\n",
      "\n"
     ]
    }
   ],
   "source": [
    "#To use a function from a package, it has to have the format packagename.functionname(input_arguments)\n",
    "#The input_arguments are not always needed\n",
    "#We will discuss more about packages later, now, let's focus on the basic ones \n",
    "\n",
    "#try a few functions (: \n",
    "\n",
    "#base 10 log\n",
    "print('log10(10) is ' , math.log10(10))\n",
    "\n",
    "#base e log\n",
    "print('ln(10) or log(10) is ' , math.log(10))\n",
    "\n",
    "#Some constants are defined in math\n",
    "print('pi is ',math.pi)\n",
    "print('e is  ', math.e)\n",
    "\n",
    "#Please try out some of the other functions in the math package here:\n",
    "\n",
    "#code here\n",
    "\n",
    "print()\n",
    "\n",
    "print()"
   ]
  },
  {
   "cell_type": "markdown",
   "metadata": {},
   "source": [
    "# Containers: Arrays and Lists\n",
    "\n",
    "When working with data, you usually won't be dealing with just one number, but an array of values. Arrays can consist of floats, integers, strings, or a combination of them. A list is denoted by brackets: [], while an array must be defined with np.array(). \n",
    "\n",
    "The dimension of an array is the number of indices needed to select an element. Thus a one-dimensional array is a list of data, a two-dimensional array is a rectangle of data, a three-dimensional array a block of data, etc. Source: https://en.wikipedia.org/wiki/Array_(data_structure)#Dimension\n",
    "\n",
    "The following is an example of a one dimensional (1D) list:"
   ]
  },
  {
   "cell_type": "code",
   "execution_count": 69,
   "metadata": {},
   "outputs": [
    {
     "name": "stdout",
     "output_type": "stream",
     "text": [
      "['Barry B. Benson', 'Vanessa Bloome', 'Ray Liotta as Ray Liotta']\n",
      "[1, 2, 3]\n"
     ]
    }
   ],
   "source": [
    "beemovie = ['Barry B. Benson', 'Vanessa Bloome', 'Ray Liotta as Ray Liotta']\n",
    "print(beemovie)\n",
    "myarray_with_list = [1,2,3]\n",
    "print(myarray_with_list)"
   ]
  },
  {
   "cell_type": "markdown",
   "metadata": {},
   "source": [
    "**For strings, this is fine, but you will need arrays in order to manipulate them mathematically.** The array function is built into numpy. Here is a 1D array. To define an array you can take a list, either empty or populated, and use np.array() to convert it into an array. Let's say I have a list of numbers in a variable height. height = [5.67, 5.90, 6.1] to convert this into an array I would do height_arr = np.array([5.67, 5.90, 6.1]) or np.array(height). "
   ]
  },
  {
   "cell_type": "code",
   "execution_count": 70,
   "metadata": {},
   "outputs": [],
   "source": [
    "myarray_with_numpy = np.array([1, 2, 3])"
   ]
  },
  {
   "cell_type": "code",
   "execution_count": 71,
   "metadata": {},
   "outputs": [],
   "source": [
    "#type: myarray_with_numpy*2\n"
   ]
  },
  {
   "cell_type": "code",
   "execution_count": 72,
   "metadata": {},
   "outputs": [],
   "source": [
    "#type: myarray_with_list*2\n",
    "#Please note that the list would **not** be manipulated mathmetically\n"
   ]
  },
  {
   "cell_type": "markdown",
   "metadata": {},
   "source": [
    "## Extra: <br>\n",
    "### More subtle differences between numpy.array and list:<br>\n",
    "        Try comparing : \n",
    "            \n",
    "            1. myarray_with_numpy+2 and myarray_with_list+2 (you will get an error message for the later one)<br>\n",
    "            \n",
    "            2. myarray_with_numpy+[2] and myarray_with_list+[2]\n",
    "    \n",
    "    Overall, numpy.array will always try to manipulate the array mathmetically, while a list trys to do modifications of list itself (e.g., repeat itself, append anoterh list, and etc.)\n",
    "            "
   ]
  },
  {
   "cell_type": "code",
   "execution_count": null,
   "metadata": {},
   "outputs": [],
   "source": [
    "#code here\n"
   ]
  },
  {
   "cell_type": "code",
   "execution_count": null,
   "metadata": {},
   "outputs": [],
   "source": []
  },
  {
   "cell_type": "markdown",
   "metadata": {},
   "source": [
    "## Numpy Array Arithmetic\n",
    "\n",
    "Numpy Arrays allow you to do the same basic operations we covered above such as multiply and divide to the entire array without the need of any loops."
   ]
  },
  {
   "cell_type": "code",
   "execution_count": 76,
   "metadata": {},
   "outputs": [
    {
     "name": "stdout",
     "output_type": "stream",
     "text": [
      "<class 'numpy.ndarray'> [ 8 25 20  1 39 22 48 38 14 31]\n",
      "\n",
      "[16 50 40  2 78 44 96 76 28 62]\n",
      "\n",
      "[100004.  100012.5 100010.  100000.5 100019.5 100011.  100024.  100019.\n",
      " 100007.  100015.5]\n",
      "[5.00001737 5.00005428 5.00004343 5.00000217 5.00008468 5.00004777\n",
      " 5.00010422 5.00008251 5.0000304  5.00006731]\n"
     ]
    }
   ],
   "source": [
    "#getting some random numbers \n",
    "base_array = np.random.randint(low = 1, high = 50, size = 10)\n",
    "\n",
    "print(type(base_array), base_array)\n",
    "print()\n",
    "\n",
    "# You uncover that this array is actually off by a factor of 2 \n",
    "# so we are multiplying the base_array by 2\n",
    "\n",
    "new_arr = 2 * base_array\n",
    "print(new_arr)\n",
    "print()\n",
    "\n",
    "# someone else came up to you after you mutliplied it by 2 and they say that\n",
    "# to account for inflation we need to actually divide the array by 4 and add 100000\n",
    "new_arr1 = new_arr/4 + 100000\n",
    "print(new_arr1)\n",
    "\n",
    "#you can apply numpy funtions on the array too\n",
    "# you can also try math.log10(new_arr1) in a seperate cell, and you'll likely get an error b/c math.log10() can't take an array as input argument\n",
    "new_arr2 = np.log10(new_arr1)\n",
    "print(new_arr2)"
   ]
  },
  {
   "cell_type": "markdown",
   "metadata": {},
   "source": [
    "# Populating Arrays\n",
    "\n",
    "You don't always have to put in the values of your array manually, especially if, for example, you want a function to sample numbers evenly along some axis. \n",
    "\n",
    "There are two *inclusive* ways to define arrays, meaning that the last number is included.\n",
    "\n",
    "The first is *np.linspace()*, giving you an array between two values that are linearly spaced. \n",
    "\n",
    "The second is *np.logspace()*, giving you an array between two values that are spaced evenly in log10 (10^1, 10^1.1, 10^1.2, etc).\n",
    "    \n",
    "The syntax is the following:\n",
    "\n",
    "    np.linspace(beginning number, end number, number of values)\n",
    "    np.logspace(log(beginning number), log(end number), number of values)"
   ]
  },
  {
   "cell_type": "code",
   "execution_count": null,
   "metadata": {},
   "outputs": [],
   "source": [
    "#generating 50 numbers evenly spaced between 1-100\n",
    "print(np.linspace(1, 100, 50))\n",
    "\n",
    "#generating 50 numbers evenly spaced between 10^1 to 10^3\n",
    "print(np.logspace(1, 3, 50))"
   ]
  },
  {
   "cell_type": "code",
   "execution_count": null,
   "metadata": {},
   "outputs": [],
   "source": [
    "# Exercise: create an array: ranging from 0 to 100, with increment of 2 \n",
    "# e.g., [0, 2, 4, 6 , 8 , 10 , 12 , 14 , ......., 96 , 98 , 100]\n"
   ]
  },
  {
   "cell_type": "markdown",
   "metadata": {},
   "source": [
    "Another way to create an array is through np.arange(), but this is last number is *exclusive*, meaning it will sample numbers linearly beginning with your initial number and ending one step size before your end number. So if you want your axis to go from 0 to 100 in steps of 1, make sure you put 101 as the last number.\n",
    "\n",
    "The syntax is slightly different from the previous two numpy functions. The third argument is your step size, not your number of data points, so this is good to use if the step size is important. Of course you can always figure out how many data points you need for the spacing to be such-and-such in linspace, but if you're lazy and bad at math this works too!\n",
    "\n",
    "    np.arange(beginning number, end number+delta, delta)"
   ]
  },
  {
   "cell_type": "code",
   "execution_count": null,
   "metadata": {},
   "outputs": [],
   "source": [
    "bins_for_histogram = np.arange(-100, 110, 10)\n",
    "print(bins_for_histogram)"
   ]
  },
  {
   "cell_type": "code",
   "execution_count": null,
   "metadata": {},
   "outputs": [],
   "source": [
    "# Exercise: create an array: ranging from 0 to 100, with increment of 2 \n",
    "# e.g., [0, 2, 4, 6 , 8 , 10 , 12 , 14 , ......., 96 , 98 , 100]\n"
   ]
  },
  {
   "cell_type": "markdown",
   "metadata": {},
   "source": [
    "Another quick way to create an array is through np.zeros. This populates an array with, well, zeros. It might sound useless at first, but it's an easy way to initialize an array that you will later replace with different values. It helps keep arrays at a fixed length, for instance. More on that later.\n",
    "\n",
    "The syntax is simply number of rows, number of columns. If it's 1D, then it can just be:\n",
    "\n",
    "    np.zeros(3) #a 1x3 array of zeros\n",
    "    \n",
    "If it's 2-D, you need two sets of parentheses:\n",
    "\n",
    "    np.zeros((rows, columns))"
   ]
  },
  {
   "cell_type": "code",
   "execution_count": 1,
   "metadata": {},
   "outputs": [],
   "source": [
    "#1D array of zeros of length 10\n",
    "print(np.zeros(10))"
   ]
  },
  {
   "cell_type": "code",
   "execution_count": null,
   "metadata": {},
   "outputs": [],
   "source": [
    "#2D array of zeros with 10 rows and 5 columns\n",
    "np.zeros((10, 5))"
   ]
  },
  {
   "cell_type": "markdown",
   "metadata": {},
   "source": [
    "# Indexing: Python uses 0-based indexing!\n",
    "\n",
    "This means that the first value of an array is the 0th index. \n",
    "\n",
    "To call a certain value from an array or list, call the variable name followed by brackets containing the index of the value you want:\n",
    "\n",
    "    array[0]\n",
    "    \n",
    "The value inside the brackets can also be a variable, so long as the variable is an integer. \n",
    "\n",
    "A helpful shortcut is that you can also count backwards in your array with a negative sign, so the last value in your array is always array[-1]."
   ]
  },
  {
   "cell_type": "code",
   "execution_count": 5,
   "metadata": {},
   "outputs": [
    {
     "name": "stdout",
     "output_type": "stream",
     "text": [
      "46\n",
      "\n",
      "30\n",
      "\n",
      "30\n",
      "\n",
      "36\n",
      "\n",
      "[36 25  1 11]\n"
     ]
    }
   ],
   "source": [
    "np.random.seed(1001)\n",
    "base_array = np.random.randint(low = 1, high = 50, size = 50)\n",
    "\n",
    "#getting the first entry\n",
    "first_entry = base_array[0]\n",
    "print(first_entry)\n",
    "print()\n",
    "\n",
    "#getting the last entry (length of array) - 1\n",
    "last_entry = base_array[49]\n",
    "print(last_entry)\n",
    "print()\n",
    "#or\n",
    "last_entry = base_array[-1]\n",
    "print(last_entry)\n",
    "print()\n",
    "\n",
    "#getting the 10th entry\n",
    "tenth_entry = base_array[9]\n",
    "print(tenth_entry)\n",
    "print()\n",
    "\n",
    "#Using a list of indices\n",
    "#So let us grab the the 5th, the 11, the 34th and the 45th entry in the base_array\n",
    "list_values_arr = base_array[[4, 10, 33, 44]]\n",
    "print(list_values_arr)"
   ]
  },
  {
   "cell_type": "markdown",
   "metadata": {},
   "source": [
    "# Slicing\n",
    "Finally, you can also slice arrays between certain index values. This is helpful if you want to plot only a small subsample of your data.\n",
    "\n",
    "For slicing, you use a colon in the indexing call to denote you are slicing the array. \n",
    "\n",
    "Syntax:\n",
    "\n",
    "    :x - from beginning to index x-1, x is not included\n",
    "    x: - from index x until the end\n",
    "    a:b - from index a to b (b is not included)\n",
    "    a:b:c - every c'th entry between indices a and b\n",
    "    \n",
    "These can be combined, e.g. a::c goes from index a until the end in steps of c.\n",
    "    \n",
    "NOTE: Slicing is *exclusive*."
   ]
  },
  {
   "cell_type": "code",
   "execution_count": null,
   "metadata": {},
   "outputs": [],
   "source": [
    "long_array = np.arange(1, 1000, 1)\n",
    "\n",
    "#getting a small subset between index 50-499\n",
    "print(long_array[50:500])\n",
    "\n",
    "#getting every even index values\n",
    "print(long_array[::2])\n",
    "\n",
    "#getting every 2nd entry between index 50-499\n",
    "print(long_array[50:500:2])\n",
    "\n",
    "#negtive index also works\n",
    "print(long_array[-5:-1])\n",
    "print(long_array[995:-1])"
   ]
  },
  {
   "cell_type": "markdown",
   "metadata": {},
   "source": [
    "## np.where() : \n",
    "\n",
    "This function allows you to impose a condition on an array so you can search the array for specific values. These conditions can be the following:\n",
    "\n",
    "    < less than\n",
    "    <= less than or equal to\n",
    "    > greater than\n",
    "    >= greater than or equal to\n",
    "    == equal to\n",
    "    != not equal to\n",
    "    \n",
    "The output will be the indices where the array meets your condition. \n",
    "To print the actual values that satisfy your conditions, you would call the array with the output from np.where() as the indices. \n",
    "\n",
    "    np.where(array < 2)\n",
    "\n",
    "**This gives the indices where this is true.** The values of the array where it's true would be written as:\n",
    "\n",
    "    array[np.where(array < 2)]\n",
    "    \n",
    "You can also give np.where() a compound condition but this compound condition needs to be enclosed with parenthesis:\n",
    "\n",
    "    array[np.where((array < 2) & (array > 0))]\n",
    "    \n",
    "Note that, as above, compound statements must be independent clauses, so something like \"0<array<2\" doesn't work."
   ]
  },
  {
   "cell_type": "code",
   "execution_count": null,
   "metadata": {},
   "outputs": [],
   "source": [
    "arr = np.linspace(0, 100, 50)\n",
    "\n",
    "print('The **indices** where entries in arr < 50 are : \\n', np.where(arr < 50)[0], '\\n')\n",
    "\n",
    "print('The **values** of the array that are smaller than 50 are : \\n', arr[np.where(arr < 50)])"
   ]
  },
  {
   "cell_type": "code",
   "execution_count": null,
   "metadata": {},
   "outputs": [],
   "source": [
    "print(arr[np.where((arr < 50) & (arr > 25))])"
   ]
  },
  {
   "cell_type": "markdown",
   "metadata": {},
   "source": [
    "Extra: \n",
    "    There are other more complex ways to use np.where that would return you with values, but we won't cover in this session in order to avoid confusion : https://numpy.org/doc/stable/reference/generated/numpy.where.html"
   ]
  },
  {
   "cell_type": "markdown",
   "metadata": {},
   "source": [
    "### Add more dimensions -- ndarray :https://numpy.org/doc/stable/reference/generated/numpy.ndarray.html\n",
    "The dimension of an array is the number of indices needed to select an element. Thus a one-dimensional array is a list of data, a two-dimensional array is a rectangle of data, a three-dimensional array a block of data, etc. Source: https://en.wikipedia.org/wiki/Array_(data_structure)#Dimension\n",
    "\n"
   ]
  },
  {
   "cell_type": "code",
   "execution_count": 11,
   "metadata": {},
   "outputs": [
    {
     "data": {
      "image/png": "[encoded data removed]",
      "text/plain": [
       "<Figure size 640x480 with 2 Axes>"
      ]
     },
     "metadata": {},
     "output_type": "display_data"
    }
   ],
   "source": [
    "# An image is usually a 2D array\n",
    "# We will cover the following later in the seminar, but fornow, run this cell below\n",
    "\n",
    "from astropy.modeling.models import Sersic2D\n",
    "import matplotlib.pyplot as plt\n",
    "\n",
    "x,y = np.meshgrid(np.arange(100), np.arange(100))\n",
    "\n",
    "mod = Sersic2D(amplitude = 1, r_eff = 25, n=4, x_0=50, y_0=50,\n",
    "               ellip=.3, theta=-1)\n",
    "\n",
    "img = mod(x, y)\n",
    "\n",
    "#this is the image you put into the plot too1\n",
    "#print(log_img) in the next cell to see that you'll get a two-d array of values\n",
    "log_img = np.log10(img)\n",
    "\n",
    "plt.figure()\n",
    "plt.imshow(log_img, origin='lower', interpolation = 'nearest',\n",
    "           vmin=-1, vmax=2, cmap = 'hot')\n",
    "plt.xlabel('x')\n",
    "plt.ylabel('y')\n",
    "cbar = plt.colorbar()\n",
    "cbar.set_label('Log Brightness', rotation=270, labelpad=25)\n",
    "cbar.set_ticks([-1, 0, 1, 2])\n",
    "plt.show()\n"
   ]
  },
  {
   "cell_type": "code",
   "execution_count": 12,
   "metadata": {},
   "outputs": [
    {
     "name": "stdout",
     "output_type": "stream",
     "text": [
      "[[-1.37774372 -1.36467009 -1.35154989 ... -0.97476464 -0.98762876\n",
      "  -1.00059818]\n",
      " [-1.36724672 -1.35402278 -1.34074907 ... -0.96534865 -0.97851296\n",
      "  -0.99177501]\n",
      " [-1.35674181 -1.34336543 -1.32993594 ... -0.95608295 -0.96955069\n",
      "  -0.98310815]\n",
      " ...\n",
      " [-0.98853128 -0.97460584 -0.96075047 ... -1.30546975 -1.31911241\n",
      "  -1.33269993]\n",
      " [-0.99674415 -0.98310815 -0.96955069 ... -1.31645484 -1.32993594\n",
      "  -1.34336543]\n",
      " [-1.00512361 -0.99177501 -0.97851296 ... -1.32742713 -1.34074907\n",
      "  -1.35402278]]\n"
     ]
    }
   ],
   "source": [
    "# The image is a 2d-array of values\n",
    "print(log_img)"
   ]
  },
  {
   "cell_type": "markdown",
   "metadata": {},
   "source": [
    "# Indexing 2D Arrays\n",
    "\n",
    "All the indexing rules that we have covered for 1D arrays are still applicable to 2D arrays but now we have an additional dimension to specify. With 2D arrays you need to specify the row **and** column index. The syntax for indexing a 2D array is as follows\n",
    "\n",
    "    var[row_index, column_index]\n",
    "\n",
    "If you need to slice the 2D array, then what you need to do is tell Python the start and ending index for the row and columns. \n",
    "\n",
    "    var[start_row_index:end_row_index, start_column_index:end_column_index]\n",
    "\n",
    "If you need a certain row or a slice of rows, there is a shorthand you can do to acquire the rows\n",
    "\n",
    "    rows = var[start_row_index:end_row_index]\n",
    "\n",
    "By default Python will grab all the columns if none are specified.\n",
    "\n",
    "This shorthand is not true if you need a slice of columns, to slice columns you need to do the following command:\n",
    "\n",
    "    columns = var[:, start_column_index:end_column_index]\n",
    "\n",
    "Recall that a colon with no start or end means grab the entire array, so this is say grab all the rows and only give me back the columns within start_column_index and end_column_index. "
   ]
  },
  {
   "cell_type": "code",
   "execution_count": 17,
   "metadata": {},
   "outputs": [
    {
     "data": {
      "text/plain": [
       "array([[-2.28718977e-01, -2.32090724e-01, -2.36872932e-01,\n",
       "        -2.43026129e-01, -2.50500908e-01, -2.59239279e-01,\n",
       "        -2.69176163e-01, -2.80240964e-01, -2.92359136e-01,\n",
       "        -3.05453685e-01, -3.19446561e-01, -3.34259900e-01,\n",
       "        -3.49817092e-01, -3.66043670e-01, -3.82868025e-01,\n",
       "        -4.00221938e-01, -4.18040968e-01, -4.36264697e-01,\n",
       "        -4.54836855e-01, -4.73705349e-01, -4.92822218e-01,\n",
       "        -5.12143517e-01, -5.31629164e-01, -5.51242745e-01,\n",
       "        -5.70951310e-01, -5.90725147e-01, -6.10537550e-01,\n",
       "        -6.30364597e-01, -6.50184928e-01, -6.69979523e-01,\n",
       "        -6.89731508e-01, -7.09425955e-01, -7.29049706e-01,\n",
       "        -7.48591203e-01, -7.68040336e-01, -7.87388299e-01,\n",
       "        -8.06627460e-01, -8.25751241e-01, -8.44754015e-01],\n",
       "       [-1.99671774e-01, -2.03658070e-01, -2.09126409e-01,\n",
       "        -2.16028984e-01, -2.24307321e-01, -2.33893944e-01,\n",
       "        -2.44714186e-01, -2.56688038e-01, -2.69731961e-01,\n",
       "        -2.83760577e-01, -2.98688204e-01, -3.14430187e-01,\n",
       "        -3.30904013e-01, -3.48030205e-01, -3.65733005e-01,\n",
       "        -3.83940867e-01, -4.02586774e-01, -4.21608402e-01,\n",
       "        -4.40948177e-01, -4.60553216e-01, -4.80375204e-01,\n",
       "        -5.00370212e-01, -5.20498469e-01, -5.40724119e-01,\n",
       "        -5.61014955e-01, -5.81342151e-01, -6.01679998e-01,\n",
       "        -6.22005641e-01, -6.42298831e-01, -6.62541690e-01,\n",
       "        -6.82718487e-01, -7.02815434e-01, -7.22820491e-01,\n",
       "        -7.42723195e-01, -7.62514494e-01, -7.82186606e-01,\n",
       "        -8.01732878e-01, -8.21147674e-01, -8.40426257e-01],\n",
       "       [-1.70075870e-01, -1.74743924e-01, -1.80969298e-01,\n",
       "        -1.88694324e-01, -1.97849955e-01, -2.08357826e-01,\n",
       "        -2.20132425e-01, -2.33083261e-01, -2.47116940e-01,\n",
       "        -2.62139054e-01, -2.78055852e-01, -2.94775637e-01,\n",
       "        -3.12209910e-01, -3.30274237e-01, -3.48888883e-01,\n",
       "        -3.67979223e-01, -3.87475972e-01, -4.07315253e-01,\n",
       "        -4.27438552e-01, -4.47792568e-01, -4.68329004e-01,\n",
       "        -4.89004296e-01, -5.09779323e-01, -5.30619093e-01,\n",
       "        -5.51492430e-01, -5.72371655e-01, -5.93232288e-01,\n",
       "        -6.14052749e-01, -6.34814090e-01, -6.55499735e-01,\n",
       "        -6.76095242e-01, -6.96588087e-01, -7.16967458e-01,\n",
       "        -7.37224080e-01, -7.57350042e-01, -7.77338652e-01,\n",
       "        -7.97184298e-01, -8.16882331e-01, -8.36428953e-01],\n",
       "       [-1.39921498e-01, -1.45347052e-01, -1.52408734e-01,\n",
       "        -1.61037211e-01, -1.71151133e-01, -1.82659664e-01,\n",
       "        -1.95465070e-01, -2.09465253e-01, -2.24556095e-01,\n",
       "        -2.40633552e-01, -2.57595431e-01, -2.75342842e-01,\n",
       "        -2.93781324e-01, -3.12821658e-01, -3.32380407e-01,\n",
       "        -3.52380226e-01, -3.72749968e-01, -3.93424635e-01,\n",
       "        -4.14345214e-01, -4.35458424e-01, -4.56716398e-01,\n",
       "        -4.78076333e-01, -4.99500120e-01, -5.20953969e-01,\n",
       "        -5.42408034e-01, -5.63836056e-01, -5.85215021e-01,\n",
       "        -6.06524839e-01, -6.27748049e-01, -6.48869538e-01,\n",
       "        -6.69876295e-01, -6.90757180e-01, -7.11502715e-01,\n",
       "        -7.32104899e-01, -7.52557037e-01, -7.72853591e-01,\n",
       "        -7.92990045e-01, -8.12962782e-01, -8.32768976e-01],\n",
       "       [-1.09201313e-01, -1.15469833e-01, -1.23456490e-01,\n",
       "        -1.33078165e-01, -1.44239222e-01, -1.56834588e-01,\n",
       "        -1.70752832e-01, -1.85879081e-01, -2.02097654e-01,\n",
       "        -2.19294334e-01, -2.37358229e-01, -2.56183231e-01,\n",
       "        -2.75669078e-01, -2.95722073e-01, -3.16255492e-01,\n",
       "        -3.37189746e-01, -3.58452336e-01, -3.79977669e-01,\n",
       "        -4.01706750e-01, -4.23586810e-01, -4.45570879e-01,\n",
       "        -4.67617346e-01, -4.89689508e-01, -5.11755124e-01,\n",
       "        -5.33785996e-01, -5.55757561e-01, -5.77648517e-01,\n",
       "        -5.99440475e-01, -6.21117641e-01, -6.42666528e-01,\n",
       "        -6.64075687e-01, -6.85335479e-01, -7.06437855e-01,\n",
       "        -7.27376171e-01, -7.48145018e-01, -7.68740069e-01,\n",
       "        -7.89157947e-01, -8.09396107e-01, -8.29452727e-01],\n",
       "       [-7.79112768e-02, -8.51192974e-02, -9.41301058e-02,\n",
       "        -1.04844320e-01, -1.17149757e-01, -1.30925171e-01,\n",
       "        -1.46043868e-01, -1.62377043e-01, -1.79796681e-01,\n",
       "        -1.98177977e-01, -2.17401236e-01, -2.37353272e-01,\n",
       "        -2.57928364e-01, -2.79028809e-01, -3.00565155e-01,\n",
       "        -3.22456178e-01, -3.44628659e-01, -3.67017023e-01,\n",
       "        -3.89562886e-01, -4.12214547e-01, -4.34926443e-01,\n",
       "        -4.57658617e-01, -4.80376183e-01, -5.03048821e-01,\n",
       "        -5.25650298e-01, -5.48158028e-01, -5.70552664e-01,\n",
       "        -5.92817725e-01, -6.14939265e-01, -6.36905567e-01,\n",
       "        -6.58706876e-01, -6.80335157e-01, -7.01783881e-01,\n",
       "        -7.23047834e-01, -7.44122951e-01, -7.65006166e-01,\n",
       "        -7.85695282e-01, -8.06188855e-01, -8.26486093e-01],\n",
       "       [-4.60517812e-02, -5.43084147e-02, -6.44542603e-02,\n",
       "        -7.63707920e-02, -8.99267430e-02, -1.04982594e-01,\n",
       "        -1.21394792e-01, -1.39019493e-01, -1.57715711e-01,\n",
       "        -1.77347822e-01, -1.97787427e-01, -2.18914624e-01,\n",
       "        -2.40618776e-01, -2.62798839e-01, -2.85363365e-01,\n",
       "        -3.08230250e-01, -3.31326296e-01, -3.54586661e-01,\n",
       "        -3.77954238e-01, -4.01378998e-01, -4.24817339e-01,\n",
       "        -4.48231444e-01, -4.71588674e-01, -4.94861001e-01,\n",
       "        -5.18024485e-01, -5.41058792e-01, -5.63946764e-01,\n",
       "        -5.86674030e-01, -6.09228657e-01, -6.31600842e-01,\n",
       "        -6.53782638e-01, -6.75767710e-01, -6.97551126e-01,\n",
       "        -7.19129167e-01, -7.40499162e-01, -7.61659346e-01,\n",
       "        -7.82608732e-01, -8.03347003e-01, -8.23874413e-01],\n",
       "       [-1.36290964e-02, -2.30577005e-02, -3.44624288e-02,\n",
       "        -4.77022954e-02, -6.26241354e-02, -7.90679493e-02,\n",
       "        -9.68717461e-02, -1.15875676e-01, -1.35925356e-01,\n",
       "        -1.56874363e-01, -1.78585969e-01, -2.00934181e-01,\n",
       "        -2.23804234e-01, -2.47092624e-01, -2.70706823e-01,\n",
       "        -2.94564749e-01, -3.18594091e-01, -3.42731543e-01,\n",
       "        -3.66922003e-01, -3.91117776e-01, -4.15277793e-01,\n",
       "        -4.39366884e-01, -4.63355096e-01, -4.87217068e-01,\n",
       "        -5.10931467e-01, -5.34480481e-01, -5.57849369e-01,\n",
       "        -5.81026052e-01, -6.04000768e-01, -6.26765752e-01,\n",
       "        -6.49314968e-01, -6.71643866e-01, -6.93749177e-01,\n",
       "        -7.15628727e-01, -7.37281280e-01, -7.58706402e-01,\n",
       "        -7.79904340e-01, -8.00875916e-01, -8.21622443e-01],\n",
       "       [ 1.93427872e-02,  8.60279791e-03, -4.19887523e-03,\n",
       "        -1.88950164e-02, -3.53075128e-02, -5.32536364e-02,\n",
       "        -7.25515061e-02, -9.30245394e-02, -1.14504837e-01,\n",
       "        -1.36835544e-01, -1.59872315e-01, -1.83484006e-01,\n",
       "        -2.07552794e-01, -2.31973835e-01, -2.56654626e-01,\n",
       "        -2.81514165e-01, -3.06482002e-01, -3.31497253e-01,\n",
       "        -3.56507611e-01, -3.81468401e-01, -4.06341689e-01,\n",
       "        -4.31095465e-01, -4.55702894e-01, -4.80141648e-01,\n",
       "        -5.04393308e-01, -5.28442838e-01, -5.52278117e-01,\n",
       "        -5.75889534e-01, -5.99269632e-01, -6.22412795e-01,\n",
       "        -6.45314985e-01, -6.67973506e-01, -6.90386802e-01,\n",
       "        -7.12554285e-01, -7.34476184e-01, -7.56153414e-01,\n",
       "        -7.77587468e-01, -7.98780317e-01, -8.19734331e-01],\n",
       "       [ 5.28398149e-02,  4.06310555e-02,  2.62789737e-02,\n",
       "         9.98122430e-03, -8.05592415e-03, -2.76248486e-02,\n",
       "        -4.85225879e-02, -7.05554753e-02, -9.35424115e-02,\n",
       "        -1.17316914e-01, -1.41728143e-01, -1.66641115e-01,\n",
       "        -1.91936326e-01, -2.17508959e-01, -2.43267837e-01,\n",
       "        -2.69134236e-01, -2.95040652e-01, -3.20929572e-01,\n",
       "        -3.46752313e-01, -3.72467935e-01, -3.98042239e-01,\n",
       "        -4.23446882e-01, -4.48658568e-01, -4.73658351e-01,\n",
       "        -4.98431014e-01, -5.22964523e-01, -5.47249570e-01,\n",
       "        -5.71279155e-01, -5.95048243e-01, -6.18553461e-01,\n",
       "        -6.41792836e-01, -6.64765578e-01, -6.87471881e-01,\n",
       "        -7.09912770e-01, -7.32089951e-01, -7.54005702e-01,\n",
       "        -7.75662760e-01, -7.97064246e-01, -8.18213581e-01],\n",
       "       [ 8.68249001e-02,  7.29700795e-02,  5.68977311e-02,\n",
       "         3.88405275e-02,  1.90361164e-02, -2.28108089e-03,\n",
       "        -2.48862821e-02, -4.85689326e-02, -7.31356225e-02,\n",
       "        -9.84115897e-02, -1.24241112e-01, -1.50487080e-01,\n",
       "        -1.77030017e-01, -2.03766752e-01, -2.30608921e-01,\n",
       "        -2.57481406e-01, -2.84320807e-01, -3.11073989e-01,\n",
       "        -3.37696743e-01, -3.64152573e-01, -3.90411613e-01,\n",
       "        -4.16449669e-01, -4.42247388e-01, -4.67789524e-01,\n",
       "        -4.93064314e-01, -5.18062937e-01, -5.42779050e-01,\n",
       "        -5.67208390e-01, -5.91348439e-01, -6.15198131e-01,\n",
       "        -6.38757611e-01, -6.62028025e-01, -6.85011342e-01,\n",
       "        -7.07710207e-01, -7.30127811e-01, -7.52267786e-01,\n",
       "        -7.74134112e-01, -7.95731044e-01, -8.17063042e-01],\n",
       "       [ 1.21244188e-01,  1.05544290e-01,  8.75648023e-02,\n",
       "         6.75782102e-02,  4.58565466e-02,  2.26624140e-02,\n",
       "        -1.75753585e-03, -2.71768094e-02, -5.33913024e-02,\n",
       "        -8.02199727e-02, -1.07504374e-01, -1.35107422e-01,\n",
       "        -1.62911706e-01, -1.90817559e-01, -2.18741076e-01,\n",
       "        -2.46612177e-01, -2.74372784e-01, -3.01975161e-01,\n",
       "        -3.29380422e-01, -3.56557212e-01, -3.83480559e-01,\n",
       "        -4.10130877e-01, -4.36493109e-01, -4.62555995e-01,\n",
       "        -4.88311450e-01, -5.13754028e-01, -5.38880483e-01,\n",
       "        -5.63689380e-01, -5.88180783e-01, -6.12355980e-01,\n",
       "        -6.36217258e-01, -6.59767717e-01, -6.83011103e-01,\n",
       "        -7.05951677e-01, -7.28594104e-01, -7.50943358e-01,\n",
       "        -7.73004641e-01, -7.94783321e-01, -8.16284877e-01],\n",
       "       [ 1.56022394e-01,  1.38255196e-01,  1.18164694e-01,\n",
       "         9.60679061e-02,  7.22736881e-02,  4.70733377e-02,\n",
       "         2.07344306e-02, -6.50253263e-03, -3.44252560e-02,\n",
       "        -6.28491600e-02, -9.16158201e-02, -1.20590772e-01,\n",
       "        -1.49661018e-01, -1.78732463e-01, -2.07727433e-01,\n",
       "        -2.36582378e-01, -2.65245783e-01, -2.93676321e-01,\n",
       "        -3.21841247e-01, -3.49715001e-01, -3.77278021e-01,\n",
       "        -4.04515731e-01, -4.31417684e-01, -4.57976840e-01,\n",
       "        -4.84188967e-01, -5.10052126e-01, -5.35566254e-01,\n",
       "        -5.60732806e-01, -5.85554465e-01, -6.10034889e-01,\n",
       "        -6.34178518e-01, -6.57990393e-01, -6.81476025e-01,\n",
       "        -7.04641273e-01, -7.27492252e-01, -7.50035249e-01,\n",
       "        -7.72276661e-01, -7.94222942e-01, -8.15880558e-01],\n",
       "       [ 1.91057053e-01,  1.70976336e-01,  1.48554942e-01,\n",
       "         1.24158598e-01,  9.81343514e-02,  7.08013885e-02,\n",
       "         4.24459187e-02,  1.33192934e-02, -1.63615296e-02,\n",
       "        -4.64119842e-02, -7.66770107e-02, -1.07027772e-01,\n",
       "        -1.37358300e-01, -1.67582290e-01, -1.97630147e-01,\n",
       "        -2.27446356e-01, -2.56987176e-01, -2.86218657e-01,\n",
       "        -3.15114951e-01, -3.43656879e-01, -3.71830740e-01,\n",
       "        -3.99627304e-01, -4.27040983e-01, -4.54069141e-01,\n",
       "        -4.80711520e-01, -5.06969772e-01, -5.32847068e-01,\n",
       "        -5.58347777e-01, -5.83477204e-01, -6.08241374e-01,\n",
       "        -6.32646853e-01, -6.56700603e-01, -6.80409867e-01,\n",
       "        -7.03782066e-01, -7.26824725e-01, -7.49545409e-01,\n",
       "        -7.71951672e-01, -7.94051014e-01, -8.15850851e-01],\n",
       "       [ 2.26211550e-01,  2.03547497e-01,  1.78561800e-01,\n",
       "         1.51671796e-01,  1.23262339e-01,  9.36778377e-02,\n",
       "         6.32191238e-02,  3.21437955e-02,  6.68814624e-04,\n",
       "        -3.10256376e-02, -6.27917668e-02, -9.45097172e-02,\n",
       "        -1.26083360e-01, -1.57436476e-01, -1.88509394e-01,\n",
       "        -2.19256096e-01, -2.49641754e-01, -2.79640673e-01,\n",
       "        -3.09234563e-01, -3.38411125e-01, -3.67162879e-01,\n",
       "        -3.95486200e-01, -4.23380538e-01, -4.50847774e-01,\n",
       "        -4.77891696e-01, -5.04517579e-01, -5.30731834e-01,\n",
       "        -5.56541731e-01, -5.81955174e-01, -6.06980514e-01,\n",
       "        -6.31626402e-01, -6.55901675e-01, -6.79815255e-01,\n",
       "        -7.03376076e-01, -7.26593026e-01, -7.49474895e-01,\n",
       "        -7.72030346e-01, -7.94267878e-01, -8.16195812e-01],\n",
       "       [ 2.61306864e-01,  2.35768394e-01,  2.07975983e-01,\n",
       "         1.78399181e-01,  1.47457652e-01,  1.15515896e-01,\n",
       "         8.28832745e-02,  4.98174222e-02,  1.65294956e-02,\n",
       "        -1.68098424e-02, -5.00644203e-02, -8.31269521e-02,\n",
       "        -1.15914033e-01, -1.48361807e-01, -1.80422290e-01,\n",
       "        -2.12060308e-01, -2.43250958e-01, -2.73977543e-01,\n",
       "        -3.04229876e-01, -3.34002914e-01, -3.63295658e-01,\n",
       "        -3.92110257e-01, -4.20451293e-01, -4.48325211e-01,\n",
       "        -4.75739853e-01, -5.02704098e-01, -5.29227559e-01,\n",
       "        -5.55320358e-01, -5.80992936e-01, -6.06255906e-01,\n",
       "        -6.31119940e-01, -6.55595679e-01, -6.79693660e-01,\n",
       "        -7.03424265e-01, -7.26797678e-01, -7.49823859e-01,\n",
       "        -7.72512519e-01, -7.94873103e-01, -8.16914787e-01],\n",
       "       [ 2.96112164e-01,  2.67392139e-01,  2.36548922e-01,\n",
       "         2.04101177e-01,  1.70496787e-01,  1.36112152e-01,\n",
       "         1.01256727e-01,  6.61803252e-02,  3.10814281e-02,\n",
       "        -3.88456005e-03, -3.85977329e-02, -7.29670332e-02,\n",
       "        -1.06924603e-01, -1.40421086e-01, -1.73421776e-01,\n",
       "        -2.05903501e-01, -2.37852114e-01, -2.69260493e-01,\n",
       "        -3.00126937e-01, -3.30453910e-01, -3.60247031e-01,\n",
       "        -3.89514285e-01, -4.18265400e-01, -4.46511354e-01,\n",
       "        -4.74263990e-01, -5.01535717e-01, -5.28339270e-01,\n",
       "        -5.54687531e-01, -5.80593388e-01, -6.06069626e-01,\n",
       "        -6.31128847e-01, -6.55783409e-01, -6.80045383e-01,\n",
       "        -7.03926516e-01, -7.27438220e-01, -7.50591548e-01,\n",
       "        -7.73397196e-01, -7.95865496e-01, -8.18006417e-01],\n",
       "       [ 3.30334648e-01,  2.98119193e-01,  2.63990222e-01,\n",
       "         2.28507048e-01,  1.92134566e-01,  1.55249378e-01,\n",
       "         1.18150181e-01,  8.10696015e-02,  4.41857655e-02,\n",
       "         7.63273442e-03, -2.84905326e-02, -6.41127274e-02,\n",
       "        -9.91841314e-02, -1.33671756e-01, -1.67555493e-01,\n",
       "        -2.00825075e-01, -2.33477708e-01, -2.65516213e-01,\n",
       "        -2.96947591e-01, -3.27781898e-01, -3.58031387e-01,\n",
       "        -3.87709836e-01, -4.16832036e-01, -4.45413396e-01,\n",
       "        -4.73469640e-01, -5.01016582e-01, -5.28069952e-01,\n",
       "        -5.54645266e-01, -5.80757739e-01, -6.06422209e-01,\n",
       "        -6.31653099e-01, -6.56464379e-01, -6.80869552e-01,\n",
       "        -7.04881646e-01, -7.28513208e-01, -7.51776311e-01,\n",
       "        -7.74682560e-01, -7.97243103e-01, -8.19468646e-01],\n",
       "       [ 3.63609594e-01,  3.27592866e-01,  2.89967302e-01,\n",
       "         2.51317238e-01,  2.12107969e-01,  1.72700955e-01,\n",
       "         1.33371107e-01,  9.43234001e-02,  5.57075200e-02,\n",
       "         1.76301384e-02, -1.98351438e-02, -5.66399088e-02,\n",
       "        -9.27547583e-02, -1.28164545e-01, -1.62864708e-01,\n",
       "        -1.96858473e-01, -2.30154716e-01, -2.62766345e-01,\n",
       "        -2.94709069e-01, -3.26000474e-01, -3.56659321e-01,\n",
       "        -3.86705028e-01, -4.16157275e-01, -4.45035722e-01,\n",
       "        -4.73359797e-01, -5.01148541e-01, -5.28420510e-01,\n",
       "        -5.55193698e-01, -5.81485491e-01, -6.07312644e-01,\n",
       "        -6.32691266e-01, -6.57636821e-01, -6.82164134e-01,\n",
       "        -7.06287408e-01, -7.30020232e-01, -7.53375610e-01,\n",
       "        -7.76365979e-01, -7.99003230e-01, -8.21298734e-01],\n",
       "       [ 3.95492276e-01,  3.55397932e-01,  3.14108377e-01,\n",
       "         2.72208716e-01,  2.30142361e-01,  1.88237062e-01,\n",
       "         1.46729402e-01,  1.05785808e-01,  6.55196437e-02,\n",
       "         2.60046475e-02, -1.27147252e-02, -5.06154548e-02,\n",
       "        -8.76900579e-02, -1.23942182e-01, -1.59383328e-01,\n",
       "        -1.94030424e-01, -2.27904036e-01, -2.61027041e-01,\n",
       "        -2.93423672e-01, -3.25118804e-01, -3.56137453e-01,\n",
       "        -3.86504410e-01, -4.16243988e-01, -4.45379846e-01,\n",
       "        -4.73934875e-01, -5.01931124e-01, -5.29389766e-01,\n",
       "        -5.56331079e-01, -5.82774449e-01, -6.08738381e-01,\n",
       "        -6.34240527e-01, -6.59297708e-01, -6.83925948e-01,\n",
       "        -7.08140511e-01, -7.31955928e-01, -7.55386041e-01,\n",
       "        -7.78444031e-01, -8.01142455e-01, -8.23493278e-01]])"
      ]
     },
     "execution_count": 17,
     "metadata": {},
     "output_type": "execute_result"
    }
   ],
   "source": [
    "#       Row Index,  Column Index\n",
    "log_img[20:40     , 60:99]"
   ]
  },
  {
   "cell_type": "markdown",
   "metadata": {},
   "source": [
    "# Populating Arrays\n",
    "    Similar to how we work with 1d array"
   ]
  },
  {
   "cell_type": "code",
   "execution_count": null,
   "metadata": {},
   "outputs": [],
   "source": [
    "#create a 2D array with 3 rows and 10 columns\n",
    "print(np.zeros((3, 10)))"
   ]
  },
  {
   "cell_type": "code",
   "execution_count": null,
   "metadata": {},
   "outputs": [],
   "source": [
    "#access 2d array with index\n",
    "arr_2d = np.array([[1, 2, 3], [4, 5, 6],[7,8,9]])\n",
    "print(arr_2d)\n",
    "\n",
    "# the first entry is row, second is column\n",
    "print('The 2nd entry in the first row is, ' ,arr_2d[0][1])\n",
    "print('The 2nd entry in the first row is, ' ,arr_2d[0,1])\n",
    "print('The 2nd entry in the first two rows are, ' ,arr_2d[:2,1])\n"
   ]
  },
  {
   "cell_type": "code",
   "execution_count": null,
   "metadata": {},
   "outputs": [],
   "source": [
    "#let's change the value of an entry first\n",
    "arr_2d[2,2] = 2000\n",
    "print('The modified arr_2d is now, \\n' ,arr_2d)\n",
    "\n",
    "# you can change the values of entries \n",
    "arr_2d[:2,1] = [15,30] # with specific values of same size\n",
    "print('The modified arr_2d is now, \\n' ,arr_2d)\n",
    "\n",
    "#or you can change them to a single value for all selected entries\n",
    "arr_2d[:2,1] = 100\n",
    "print('The modified arr_2d is now, \\n' ,arr_2d)\n",
    "\n",
    "#Exercise: Try to change the value 6 in the arr_2d to 100 "
   ]
  },
  {
   "cell_type": "markdown",
   "metadata": {},
   "source": [
    "## Array Manipulation and Attributes\n",
    "\n",
    "You can manipulate arrays with one statement. Check it out:"
   ]
  },
  {
   "cell_type": "markdown",
   "metadata": {},
   "source": [
    "You can append values to the end of an array using np.append(). Use it like this:\n",
    "\n",
    "    np.append(array, something_appended)\n",
    "    \n",
    "You can even append another array, like this:\n",
    "\n",
    "    np.append(array, [5, 6])\n",
    "    np.append(array1, array2)"
   ]
  },
  {
   "cell_type": "code",
   "execution_count": null,
   "metadata": {},
   "outputs": [],
   "source": [
    "array = np.array([12, 45, 6, 534, 2,3 ,4 ,42])\n",
    "\n",
    "np.append(array, [5, 6])"
   ]
  },
  {
   "cell_type": "markdown",
   "metadata": {},
   "source": [
    "The last part of today will be showing you how to acquire different information from an array. Some of these are attributes of the array, and some of them are attributes of np itself, so you may need to look this up again in the future.\n",
    "\n",
    "Attributes of the array means that you call this by nameofarray.command:\n",
    "   \n",
    "    \n",
    "    size - number of elements in n-dimensional array\n",
    "    shape - shape given by (rows, columns)\n",
    "    flatten() - collapses the array along one axis\n",
    "    \n",
    "   \n",
    "Attributes of numpy, meaning that you call it by np.command(nameofarray):\n",
    "\n",
    "    sum - sum all the elements in the array\n",
    "    min - print minimum value in array\n",
    "    max - print maximum value\n",
    "    sort - print array in ascending order\n",
    "    \n",
    "    \n",
    "    "
   ]
  },
  {
   "cell_type": "code",
   "execution_count": null,
   "metadata": {},
   "outputs": [],
   "source": [
    "\n",
    "print(f'Size of array is: {array.size}')\n",
    "\n",
    "print(f'Shape of array is: {array.shape}')\n",
    "\n",
    "print('The flattened array is',array.flatten())"
   ]
  },
  {
   "cell_type": "code",
   "execution_count": null,
   "metadata": {},
   "outputs": [],
   "source": [
    "print(f'Sum of array is: {np.sum(array)}')\n",
    "\n",
    "sorted_array = np.sort(array)\n",
    "print(f'the original array is: {array}')\n",
    "print(f'the sorted array is: {sorted_array}')\n",
    "\n",
    "#please write a few lines to try other functions\n",
    "\n",
    "#redefine the array = arr_2d in a earlier cell, and rerun the cells to see what you get\n",
    "\n"
   ]
  },
  {
   "cell_type": "markdown",
   "metadata": {},
   "source": [
    "# Extra: Python built-in functions"
   ]
  },
  {
   "cell_type": "markdown",
   "metadata": {},
   "source": [
    "Python has many built-in functions (which means you don't need to import any package to use them). The built-in functions can be very useful and you can find the list of those on this website: https://docs.python.org/3.11/library/functions.html <br>\n",
    "On that website, please go to the upper left corner and select the correct python version."
   ]
  },
  {
   "cell_type": "code",
   "execution_count": null,
   "metadata": {},
   "outputs": [],
   "source": [
    "#Quick way to check your python version -> run this cell\n",
    "import sys\n",
    "print('The version of python is ', sys.version)"
   ]
  },
  {
   "cell_type": "markdown",
   "metadata": {},
   "source": [
    "### Some examples"
   ]
  },
  {
   "cell_type": "markdown",
   "metadata": {},
   "source": [
    "#### (1) print()"
   ]
  },
  {
   "cell_type": "code",
   "execution_count": null,
   "metadata": {},
   "outputs": [],
   "source": [
    "# For example, the print() function we used before is a built-in function\n",
    "print('Hello World!')"
   ]
  },
  {
   "cell_type": "markdown",
   "metadata": {},
   "source": [
    "#### (2) dict()"
   ]
  },
  {
   "cell_type": "code",
   "execution_count": null,
   "metadata": {},
   "outputs": [],
   "source": [
    "# One I used a lot is called dict(), which you can use to create a dictionary class.\n",
    "\n",
    "John = dict( age = 36, country = \"Norway\")\n",
    "Jack = dict( age = 27, country = \"France\")\n",
    "\n",
    "# You can use the 'keys' to retrive information, see example below\n",
    "# age and country the 'keys' of the dict John and dict Jack\n",
    "# From the way you define the dict, the keys have the type = string; keys can have other types, but we won't cover that in this tutorial\n",
    "\n",
    "print('John: Age', John['age'])\n",
    "print('Jack: Country', Jack['country'])"
   ]
  },
  {
   "cell_type": "markdown",
   "metadata": {},
   "source": [
    "#### (3) len()"
   ]
  },
  {
   "cell_type": "code",
   "execution_count": null,
   "metadata": {},
   "outputs": [],
   "source": [
    "# len() can return the length  length (the number of items) of an object.\n",
    "# The argument may be a sequence (such as a string, bytes, tuple, list, or range)\n",
    "# or a collection (such as a dictionary, set, or frozen set).\n",
    "\n",
    "# Try do some tests yourself:\n",
    "\n",
    "array_1 = [1,2,3,4,5,6,7]\n",
    "print('The length of array_1 is', len(array_1))\n",
    "\n",
    "string_1 = 'Hello World!'\n",
    "print('The length of string_1 is', len(string_1))\n",
    "# Note that ' ' (space) is always counted in python."
   ]
  },
  {
   "cell_type": "markdown",
   "metadata": {},
   "source": [
    "#### (4) zip()"
   ]
  },
  {
   "cell_type": "code",
   "execution_count": null,
   "metadata": {},
   "outputs": [],
   "source": [
    "# Iterate over several iterables in parallel, producing tuples with an item from each one.\n",
    "\n",
    "zip_results = zip([1, 2, 3], ['sugar', 'spice', 'everything nice'])\n",
    "list(zip_results)"
   ]
  },
  {
   "cell_type": "markdown",
   "metadata": {},
   "source": [
    "# Excercises"
   ]
  },
  {
   "cell_type": "markdown",
   "metadata": {},
   "source": [
    "## Exercise 1\n",
    "A. Create an array with 10 evenly spaced values in logspace ranging from 0.1 to 10,000.\n",
    "\n",
    "B. Print the following values: The first value in the array, the final value in the array, and the range of 5th-8th values.\n",
    "\n",
    "C. Append the numbers 10,001 and 10,002 (as floats) to the array. Make sure you define this!\n",
    "\n",
    "D. Divide your new array by 2.\n",
    "\n",
    "F. Multiply your array by itself.\n",
    "\n",
    "G. Print out the number of the maximum value."
   ]
  },
  {
   "cell_type": "code",
   "execution_count": null,
   "metadata": {},
   "outputs": [],
   "source": [
    "# Code Goes Here"
   ]
  },
  {
   "cell_type": "markdown",
   "metadata": {},
   "source": [
    "## Exercise 2\n",
    "\n",
    "Make a 50 x 50 array, using whatever method you like and make a checker board pattern on the 2D-array that spans the rows and columns. Kinda like the example below:"
   ]
  },
  {
   "cell_type": "code",
   "execution_count": null,
   "metadata": {},
   "outputs": [],
   "source": [
    "##########################\n",
    "# 1 0 1 0 1 0 1 0 1 0 1 0\n",
    "# 0 1 0 1 0 1 0 1 0 1 0 1\n",
    "# 1 0 1 0 1 0 1 0 1 0 1 0\n",
    "# 0 1 0 1 0 1 0 1 0 1 0 1\n",
    "# 1 0 1 0 1 0 1 0 1 0 1 0\n",
    "# 0 1 0 1 0 1 0 1 0 1 0 1\n",
    "# 1 0 1 0 1 0 1 0 1 0 1 0\n",
    "# 0 1 0 1 0 1 0 1 0 1 0 1\n",
    "# 1 0 1 0 1 0 1 0 1 0 1 0\n",
    "# 0 1 0 1 0 1 0 1 0 1 0 1\n",
    "##########################\n",
    "\n",
    "#code goes here"
   ]
  },
  {
   "cell_type": "code",
   "execution_count": null,
   "metadata": {},
   "outputs": [],
   "source": []
  },
  {
   "cell_type": "markdown",
   "metadata": {},
   "source": [
    "## Optional:  Exercise 3\n",
    "\n",
    "In image processing sometimes we are asked to change the color of an image by renormalizing the Red, Green and Blue images (RGB images). One quick and easy way to renormalize data is by using:\n",
    "\n",
    "$Normalize = \\frac{ImageData - MinData}{MaxData - MinData}$\n",
    "\n",
    "Where MinData is the minimum value in your data, MaxData is the maximum value in your data and ImageData is the imaging data to be normalized.\n",
    "\n",
    "Below is a variable called Image, your task is to go through this 3 x 100 x 100 image and normalize it with respect to each 100 x 100 layer. Once you have done that try plotting it up by passing the variable image into the plotting function predefined below.\n",
    "\n",
    "Hint: The first entry in Image is the first 100 x 100 image to renormalize (Red), second is second image (Green), and third is third image (Blue)."
   ]
  },
  {
   "cell_type": "code",
   "execution_count": null,
   "metadata": {},
   "outputs": [],
   "source": [
    "np.random.seed(50)\n",
    "Image = np.random.uniform(low = 20, high = 1543, size = (100, 100, 3))"
   ]
  },
  {
   "cell_type": "code",
   "execution_count": null,
   "metadata": {},
   "outputs": [],
   "source": [
    "# Write Renormalizing Code Here\n",
    "\n"
   ]
  },
  {
   "cell_type": "code",
   "execution_count": null,
   "metadata": {},
   "outputs": [],
   "source": [
    "import matplotlib.pyplot as plt"
   ]
  },
  {
   "cell_type": "code",
   "execution_count": null,
   "metadata": {},
   "outputs": [],
   "source": [
    "plt.figure(figsize = (10, 10))\n",
    "plt.imshow(Image.reshape(100, 100, 3))\n",
    "plt.show()"
   ]
  },
  {
   "cell_type": "code",
   "execution_count": null,
   "metadata": {},
   "outputs": [],
   "source": []
  },
  {
   "cell_type": "code",
   "execution_count": null,
   "metadata": {},
   "outputs": [],
   "source": []
  },
  {
   "cell_type": "code",
   "execution_count": null,
   "metadata": {},
   "outputs": [],
   "source": []
  }
 ],
 "metadata": {
  "kernelspec": {
   "display_name": "Python 3 (ipykernel)",
   "language": "python",
   "name": "python3"
  },
  "language_info": {
   "codemirror_mode": {
    "name": "ipython",
    "version": 3
   },
   "file_extension": ".py",
   "mimetype": "text/x-python",
   "name": "python",
   "nbconvert_exporter": "python",
   "pygments_lexer": "ipython3",
   "version": "3.11.7"
  }
 },
 "nbformat": 4,
 "nbformat_minor": 4
}
