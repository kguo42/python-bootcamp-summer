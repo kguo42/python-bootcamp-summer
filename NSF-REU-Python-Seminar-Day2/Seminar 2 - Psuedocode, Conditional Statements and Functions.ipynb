{
 "cells": [
  {
   "cell_type": "markdown",
   "metadata": {},
   "source": [
    "# Seminar 2: Conditional Statements, Functions, Flowcharts and Psuedocode\n",
    "\n",
    "Congrats on finishing Seminar 1 :D!! In seminar 1 we covered navigating the computer through terminal, the basics of python data types and few neat little Python functions that will greatly help down the line as you are performing your research. \n",
    "\n",
    "In this notebook we will cover how to use conditional statement and make your own functions to perform certain tasks. We will cover good coding practices to help you and others navigate the code and outline what it aims to do. We will do this by going over *comments* and *docstrings* which will help with the readability of the code. Once we cover all the conditional statements, the syntax to use them, and how to make your own functions in Python, we will cover a very important and, often, overlooked feature of programming which is program design. Where we will use plain language to help guide your coding and break down the tasks into manageable steps with a technique called *Psuedocode*!"
   ]
  },
  {
   "cell_type": "code",
   "execution_count": null,
   "metadata": {},
   "outputs": [],
   "source": [
    "#importing needed packages for this seminar\n",
    "import numpy as np\n",
    "import matplotlib.pyplot as plt"
   ]
  },
  {
   "cell_type": "markdown",
   "metadata": {},
   "source": [
    "# Intro to Conditional Statements\n",
    "\n",
    "One of the data types that we covered in the first seminar was a data type called $\\textbf{Boolean}$. This tells the user/Python if a condition is *True* or *False* and with this we can now break up our code so that it executes if a certain condition is met. This is super convenient when you are filtering your data, or applying selection cuts to trim down your sample as you will only want to keep objects that satisfy a certain set of criteria. \n",
    "\n",
    "We do this by applying a technique called boolean logic to join multiple conditions into a final selection to trim down a large data set into a more manageable size. We will cover the syntax and examples of how to use conditional statements in Python to speed up your data analysis. Since we will be going over execution of code for a set of conditions this is the first time where we will deviate from the normal linear programming we covered in seminar 1 where the code can branch out and could build in complexity. "
   ]
  },
  {
   "cell_type": "markdown",
   "metadata": {},
   "source": [
    "# The Syntax for if-else Statements:\n",
    "\n",
    "The simplest syntax to execute a conditional statement is the following $\\textbf{if-else}$ format:\n",
    "\n",
    "    if condition:\n",
    "        Execute code if condition is met\n",
    "        \n",
    "    else:\n",
    "        Execute code if condition is not met\n",
    "        \n",
    "\n",
    "We can build up on this and have nested if-else statements like the example below:\n",
    "    \n",
    "    if condition1:\n",
    "        Execute Code for condition 1\n",
    "        \n",
    "    else:\n",
    "        if condition2:\n",
    "            Execute Code for condition 2\n",
    "            \n",
    "\n",
    "But if you are trying to build something that requires a lot of if-else statement it may end up looking really clunky so what we can do instead is apply a short cut command called elif.\n",
    "\n",
    "The $\\textbf{elif}$ command is very useful when you are running code that executes after checking back to back conditions using multiple statements. The syntax for running elif statements is shown below.\n",
    "\n",
    "    if condition1:\n",
    "        Execute code if condition1 is met\n",
    "    elif condition2:\n",
    "        Execute code if condition2 is met\n",
    "    elif condition3:\n",
    "        Execute code if condition3 is met\n",
    "    else:\n",
    "        Execute code if neither conditions are met\n",
    "        \n",
    "        "
   ]
  },
  {
   "cell_type": "code",
   "execution_count": null,
   "metadata": {},
   "outputs": [],
   "source": [
    "money = 100\n",
    "\n",
    "fender = 500\n",
    "squire = 99\n",
    "\n",
    "if money > fender:\n",
    "    print('I can buy a Fender :D')\n",
    "    \n",
    "else:\n",
    "    print(\"I cannot buy a Fender :'(\")\n",
    "    \n",
    "if squire < money:\n",
    "    print('I can buy a Squire though!')\n",
    "    \n",
    "else:\n",
    "    \n",
    "    print(\"I cannot buy a Squire :'(\")"
   ]
  },
  {
   "cell_type": "code",
   "execution_count": null,
   "metadata": {},
   "outputs": [],
   "source": [
    "#input a source magnitude so that all three codes execute\n",
    "#You will need to rerun this multiple times to get a different output\n",
    "\n",
    "source_magnitude = \n",
    "\n",
    "if source_magnitude < 16:\n",
    "    print('Source is definitely a star!')\n",
    "    \n",
    "elif 16 <= source_magnitude < 23:\n",
    "    print('Source is probably a nearby galaxy or a faint star')\n",
    "    \n",
    "else:\n",
    "    print('Source is probably a high-redshift galaxy')\n",
    "    "
   ]
  },
  {
   "cell_type": "markdown",
   "metadata": {},
   "source": [
    "# Note on elif\n",
    "\n",
    "One thing to keep in mind when working with elif statements is that it executes the code sequentially and breaks out of the elif statements once a condition is satisfied. See the example below"
   ]
  },
  {
   "cell_type": "code",
   "execution_count": null,
   "metadata": {},
   "outputs": [],
   "source": [
    "Value = 20\n",
    "\n",
    "if Value < 16:\n",
    "    print('Value is Below 16')\n",
    "    \n",
    "elif Value < 24:\n",
    "    print('Value is Below 24')\n",
    "    \n",
    "elif Value < 30:\n",
    "    print('Value is Below 30')\n",
    "    \n",
    "else:\n",
    "    print('Value is above 30')"
   ]
  },
  {
   "cell_type": "markdown",
   "metadata": {},
   "source": [
    "# Applying multiple conditions into if-else statements\n",
    "\n",
    "So far we have covered how to perform if-else statement when one condition is met but we can extend this to have multiple conditions and clean up our code tremendously. But before we jump right in we need to cover a few boolean logic operators, much like addition and subtraction have their own symbols, boolean logic have their own set of symbols and knowing how to use them are key to writing accurate code. \n",
    "\n",
    "## Boolean Logical Operators (Quick Review):\n",
    "\n",
    "Written:\n",
    "\n",
    "    and (Return True if all conditions are True)\n",
    "    or ( Returns True if at least one of the conditions are True)\n",
    "    \n",
    "Expression: \n",
    "\n",
    "    & (same as \"and\" above)\n",
    "    | (same as \"or\" above)\n",
    "    == (comparing to see if two things are equal to one another)\n",
    "    != (comparing to see if two things are not equal to one another)\n",
    "    >= (greater than or equal to)\n",
    "    <= (less than or equal to)\n",
    "    >  (greater than)\n",
    "    <  (less than)"
   ]
  },
  {
   "cell_type": "code",
   "execution_count": null,
   "metadata": {},
   "outputs": [],
   "source": [
    "print(4 == 0)\n",
    "print(4 != 0)\n",
    "print(4 <= 0)\n",
    "print(4 >= 0)\n",
    "print(4 > 0)\n",
    "print(4 < 0)"
   ]
  },
  {
   "cell_type": "code",
   "execution_count": null,
   "metadata": {},
   "outputs": [],
   "source": [
    "x = 5 \n",
    "y = 10\n",
    "\n",
    "print(x == y)\n",
    "print(x != y)\n",
    "print(x <= y)\n",
    "print(x >= y)\n",
    "print(x > y)\n",
    "print(x < y)"
   ]
  },
  {
   "cell_type": "markdown",
   "metadata": {},
   "source": [
    "## Direct Implementation\n",
    "Below we cover a few ways of implementing them into conditional statements."
   ]
  },
  {
   "cell_type": "code",
   "execution_count": null,
   "metadata": {},
   "outputs": [],
   "source": [
    "x = 50\n",
    "\n",
    "if x > 20 and x < 100:\n",
    "    print('x is between 20 and 100')\n",
    "    \n",
    "else:\n",
    "    print('x is not between 20 and 100')\n"
   ]
  },
  {
   "cell_type": "code",
   "execution_count": null,
   "metadata": {},
   "outputs": [],
   "source": [
    "#same as above but the parenthesis make the conditions apparent and looks cleaner\n",
    "x = 50\n",
    "\n",
    "if (x > 20) & (x < 100):\n",
    "    print('x is between 20 and 100')\n",
    "    \n",
    "else:\n",
    "    print('x is not between 20 and 100')\n"
   ]
  },
  {
   "cell_type": "code",
   "execution_count": null,
   "metadata": {},
   "outputs": [],
   "source": [
    "x = 101\n",
    "\n",
    "if (x < 20) or (x > 100):\n",
    "    print('x is either less than 20 or greater than 100')\n",
    "    \n",
    "else:\n",
    "    print('x is not less than 20 or greater than 100')"
   ]
  },
  {
   "cell_type": "code",
   "execution_count": null,
   "metadata": {},
   "outputs": [],
   "source": [
    "x = 50\n",
    "\n",
    "if (x < 20) | (x > 100):\n",
    "    print('x is either less than 20 or greater than 100')\n",
    "    \n",
    "else:\n",
    "    print('x is not less than 20 or greater than 100')"
   ]
  },
  {
   "cell_type": "markdown",
   "metadata": {},
   "source": [
    "## Variable Implementation"
   ]
  },
  {
   "cell_type": "code",
   "execution_count": null,
   "metadata": {},
   "outputs": [],
   "source": [
    "x = 50\n",
    "\n",
    "condition1 = x > 20\n",
    "condition2 = x < 100\n",
    "\n",
    "print(f'condition1 is: {condition1}')\n",
    "print(f'condition2 is: {condition2}')\n",
    "\n",
    "if condition1 & condition2:\n",
    "     print('x is between 20 and 100')\n",
    "    \n",
    "else:\n",
    "    print('x is not between 20 and 100')"
   ]
  },
  {
   "cell_type": "code",
   "execution_count": null,
   "metadata": {},
   "outputs": [],
   "source": [
    "x = 50\n",
    "\n",
    "condition1 = x < 20\n",
    "condition2 = x < 100\n",
    "\n",
    "print(f'Variable condition1 is: {condition1}')\n",
    "print(f'Variable condition2 is: {condition2}')\n",
    "\n",
    "if condition1 | condition2:\n",
    "     print('x is either less than 20 or less than 100')\n",
    "    \n",
    "else:\n",
    "    print('x is not less than 20 or less than 100')"
   ]
  },
  {
   "cell_type": "markdown",
   "metadata": {},
   "source": [
    "# Intro to For-Loops\n",
    "\n",
    "For-Loops are a way for your code to execute a piece of code multiple times. The main way that it can be used in research is to loop over elements in containers: lists and/or arrays. It is a great way, when combined with if-else statements, to filter out your data and select the sources you care about. We will cover in the following section how to make a For-Loop in python and go over the syntax and some examples of how it is used.\n",
    "\n",
    "Syntax for a For-Loop:\n",
    "\n",
    "    for VARIABLE_NAME in ITERABLE:\n",
    "    \n",
    "        CODE GOES HERE"
   ]
  },
  {
   "cell_type": "code",
   "execution_count": null,
   "metadata": {},
   "outputs": [],
   "source": [
    "#example with a python built in function called range\n",
    "for i in range(10):\n",
    "    print(i)"
   ]
  },
  {
   "cell_type": "code",
   "execution_count": null,
   "metadata": {},
   "outputs": [],
   "source": [
    "for i in range(1, 10):\n",
    "    print(i)"
   ]
  },
  {
   "cell_type": "code",
   "execution_count": null,
   "metadata": {},
   "outputs": [],
   "source": [
    "np.random.seed(10)\n",
    "wavelength_array = np.linspace(1200, 4000, 12)\n",
    "spectra_array = np.random.normal(size = 12)"
   ]
  },
  {
   "cell_type": "code",
   "execution_count": null,
   "metadata": {},
   "outputs": [],
   "source": [
    "for i in range(len(wavelength_array)):\n",
    "    print(f'Index: {i},  Value: {wavelength_array[i]}')"
   ]
  },
  {
   "cell_type": "code",
   "execution_count": null,
   "metadata": {},
   "outputs": [],
   "source": [
    "for i in range(len(spectra_array)):\n",
    "    print(f'Index: {i},  Value: {spectra_array[i]}')"
   ]
  },
  {
   "cell_type": "code",
   "execution_count": null,
   "metadata": {},
   "outputs": [],
   "source": [
    "for wavelength in wavelength_array:\n",
    "    \n",
    "    print(wavelength)"
   ]
  },
  {
   "cell_type": "code",
   "execution_count": null,
   "metadata": {},
   "outputs": [],
   "source": [
    "for spectra in spectra_array:\n",
    "    \n",
    "    print(spectra)"
   ]
  },
  {
   "cell_type": "markdown",
   "metadata": {},
   "source": [
    "# Useful For-Loop commands: zip\n",
    "\n",
    "In this section we go over some very nifty and super useful commands that make going over values in multiple arrays/list super easy. One of the first things we will go over is the *zip* command. You can think of the *zip* command pairing multiple entries together so if we had two arrays: arr1 = [1, 2, 3, 4] and arr2 = [11, 12, 13, 14] when we use zip in a for loop we can actually loop over both arrays at the same time:\n",
    "\n",
    "Syntax is:\n",
    "\n",
    "    for var1, var2 in zip(arr1, arr2):\n",
    "        Code using var1 and var2\n",
    "\n",
    "\n",
    "This can be extended to more than two arrays and the number of arrays to loop over has no limit. \n",
    "\n",
    "General Syntax:\n",
    "    \n",
    "    for var1, var2, ... varN in zip(arr1, arr2, ..., arrN):\n",
    "        CODE HERE\n",
    "        \n",
    "## Note:\n",
    "If one of your arrays is shorter than the other arrays zip will only loop over the common number of elements. So if you have arr1 = [1, 2, 3, 4 ,5] and arr2 = [11, 12, 13] and use zip on these two arrays then the out put will stop after the 3rd entry since that is what they both have in common. Even though arr1 still has a 4th and 5th entry, zip will stop at entry 3 since arr2 only has 3 entries. "
   ]
  },
  {
   "cell_type": "code",
   "execution_count": null,
   "metadata": {},
   "outputs": [],
   "source": [
    "for wave, spec in zip(wavelength_array, spectra_array):\n",
    "    \n",
    "    print(f'Wavelength {wave:.2f} has Flux {spec:7.2f} ergs/s/cm^2/Angstroms')"
   ]
  },
  {
   "cell_type": "markdown",
   "metadata": {},
   "source": [
    "# Useful For-Loop commands: enumerate\n",
    "\n",
    "The second command we will go over is the *enumerate* command. The enumerate command is a cool command that not only loops over the values in the array it also enumerates which index you are currently looping over. This is super handy whnen you need to apply a condition to one array or list and need to select the corresponding pairs from another list as you can store the index where a condition is True. \n",
    "\n",
    "The syntax is:\n",
    "\n",
    "    for idx, entry in enumerate(arr1):\n",
    "        CODE HERE\n",
    "        \n",
    "        \n",
    "So if you have an array labeled arr1 = [12, 13, 14, 15, 16] and use enumerate you will get the following output:\n",
    "\n",
    "    for idx, value in enumerate(arr1):\n",
    "        print(f'{idx} --- {value}')\n",
    "        \n",
    "        \n",
    "    0 ---- 12 \n",
    "    1 ---- 13 \n",
    "    2 ---- 14 \n",
    "    3 ---- 15 \n",
    "    4 ---- 16 "
   ]
  },
  {
   "cell_type": "code",
   "execution_count": null,
   "metadata": {},
   "outputs": [],
   "source": [
    "enumerate_arr = np.array([11, 22, 23, 44, 25, 16, 27])\n",
    "\n",
    "for idx, val in enumerate(enumerate_arr):\n",
    "    print(f'{idx} ---- {val}')"
   ]
  },
  {
   "cell_type": "markdown",
   "metadata": {},
   "source": [
    "# Combining For-Loop and Conditional Statements "
   ]
  },
  {
   "cell_type": "code",
   "execution_count": null,
   "metadata": {},
   "outputs": [],
   "source": [
    "np.random.seed(10)\n",
    "wavelength_array = np.linspace(1200, 4000, 120)\n",
    "spectra_array = np.random.normal(size = 120)\n",
    "\n",
    "for i in range(len(wavelength_array)):\n",
    "    \n",
    "    if (wavelength_array[i] > 3000) & (wavelength_array[i] < 3500):\n",
    "        print(f'Index: {i} -------- Wavelength: {wavelength_array[i]:.2f} ------  Flux: {spectra_array[i]:5.2f}')"
   ]
  },
  {
   "cell_type": "markdown",
   "metadata": {},
   "source": [
    "# Excercise\n",
    "Below you have two arrays: a magnitude array and a mass array. Your job is to find the indexes where the magnitude is between 22 - 26 and what masses corresponds to those values."
   ]
  },
  {
   "cell_type": "code",
   "execution_count": null,
   "metadata": {},
   "outputs": [],
   "source": [
    "#setting up the data\n",
    "np.random.seed(10)\n",
    "#making a magnitude array\n",
    "magnitude_array = np.random.uniform(low = 20, high = 28, size = 25)\n",
    "\n",
    "#making a log10(mass) array\n",
    "mass_array = np.random.uniform(low = 7, high = 12, size = 25)"
   ]
  },
  {
   "cell_type": "code",
   "execution_count": null,
   "metadata": {},
   "outputs": [],
   "source": [
    "#YOUR CODE HERE\n",
    "\n",
    "\n"
   ]
  },
  {
   "cell_type": "markdown",
   "metadata": {},
   "source": [
    "# User Defined Functions\n",
    "\n",
    "User defined functions is one of the coolest things about programming. Python has a lot of functions pre-built into it such as:\n",
    "\n",
    "    print()\n",
    "    zip()\n",
    "    enumerate()\n",
    "    range()\n",
    "\n",
    "and much more see https://docs.python.org/3.11/library/functions.html#func-range. But often times python does not have any built-in function that will help us with our data exploration and analysis. These functions would be something we would need to make so that for a given set of inputs we get a desired output. Some functions that are very relevant to data exploration are reading in data, generating a plot for a set of x and y values, and if you can forsee yourself doing something over and over again it would be best to write a function for it. \n",
    "\n",
    "In the following section we break down the syntax for how to make a user defined function as well as how to implement some good coding practices to help you and others navigate your code and your functions. "
   ]
  },
  {
   "cell_type": "markdown",
   "metadata": {},
   "source": [
    "## Syntax of User Defined Functions\n",
    "\n",
    "We define a function using the $\\textbf{def}$ command as this tells python that we are $\\textbf{defining}$ a function followed by the function name. A general example of the syntax for a user defined function is:\n",
    "\n",
    "    def FUNCTION_NAME(INPUTS):\n",
    "        \n",
    "        CODE INSIDE FUNCTION\n",
    "        \n",
    "        return OUTPUT\n",
    "        \n",
    "In this example FUNCTION_NAME is the name of your function. You can really name it anything you want but for readability it helps if you can name it what it does. So if you are making a function to filter a dataset by magnitude calling the function filter_by_mag() would be a good idea as this tells you and others what the function will do based off of the name. Some things to keep in mind would be to make the function as generic as possible so that it can be used for a wide variety of purposes. If we stick with the filter_by_mag() example function, it would be a good idea to make this function work for a variety of magnitude values. \n",
    "\n",
    "$\\textbf{Note}$: The function you make may or may not take in any arguments and may or may not return something. This is something that is very much dependent on the task of your function and what you want it to do. \n",
    "\n",
    "Below we cover some example of making functions with arguments, having an argument have a default value already in the function declaration and a function that does not take any argument or return anything back."
   ]
  },
  {
   "cell_type": "code",
   "execution_count": null,
   "metadata": {},
   "outputs": [],
   "source": [
    "def filter_by_mag(arr, mag):\n",
    "    \n",
    "    #defining an empty array to later store magnitudes that passed our threshold\n",
    "    valid_mag_arr = np.array([])\n",
    "    \n",
    "    #looping over the values in the array arr\n",
    "    for value in arr:\n",
    "        \n",
    "        if value >= mag:\n",
    "            \n",
    "            valid_mag_arr = np.append(valid_mag_arr, value)\n",
    "        \n",
    "    return valid_mag_arr"
   ]
  },
  {
   "cell_type": "code",
   "execution_count": null,
   "metadata": {},
   "outputs": [],
   "source": [
    "def plotting_histogram(data, num_bins = 20):\n",
    "    \n",
    "    #generating a histogram of the data and grabbing the number counts in each bins as well as the bin edges\n",
    "    bin_vals, bin_edges = np.histogram(data, bins = num_bins)\n",
    "    \n",
    "    #computing the bin center for plotting\n",
    "    bin_center = (bin_edges[1:] + bin_edges[:-1]) / 2\n",
    "    \n",
    "    #plotting the histogram and points of the histogram\n",
    "    plt.figure(figsize = (7, 5), facecolor = 'white', constrained_layout = True)\n",
    "    plt.hist(data, bins = num_bins, histtype='step', color ='red')\n",
    "    plt.scatter(bin_center, bin_vals, color = 'black', s = 100)\n",
    "    plt.xlabel('Magnitudes')\n",
    "    plt.ylabel('Frequency')\n",
    "    plt.show()\n",
    "    "
   ]
  },
  {
   "cell_type": "code",
   "execution_count": null,
   "metadata": {},
   "outputs": [],
   "source": [
    "def Display_Message():\n",
    "    \n",
    "    print('Welome to the Python Bootcamp')\n",
    "    print('Today we are covering python functions')\n",
    "    print('This function does not take any input nor does it return anything')\n",
    "    print(':D')"
   ]
  },
  {
   "cell_type": "code",
   "execution_count": null,
   "metadata": {},
   "outputs": [],
   "source": [
    "np.random.seed(10)\n",
    "mag_array = np.random.exponential(scale = 20, size = 100)\n",
    "filtered_mag_array = filter_by_mag(mag_array, 24)"
   ]
  },
  {
   "cell_type": "code",
   "execution_count": null,
   "metadata": {},
   "outputs": [],
   "source": [
    "print(filtered_mag_array)"
   ]
  },
  {
   "cell_type": "code",
   "execution_count": null,
   "metadata": {},
   "outputs": [],
   "source": [
    "plotting_histogram(mag_array)"
   ]
  },
  {
   "cell_type": "code",
   "execution_count": null,
   "metadata": {},
   "outputs": [],
   "source": [
    "x = plotting_histogram(mag_array)"
   ]
  },
  {
   "cell_type": "code",
   "execution_count": null,
   "metadata": {},
   "outputs": [],
   "source": [
    "print(type(x))"
   ]
  },
  {
   "cell_type": "code",
   "execution_count": null,
   "metadata": {},
   "outputs": [],
   "source": [
    "Display_Message()"
   ]
  },
  {
   "cell_type": "markdown",
   "metadata": {},
   "source": [
    "## Introducing DocStrings\n",
    "\n",
    "DocStrings are a very neat way to document your function so that you and others know how it works, what inputs are requred and what the function returns. DocStrings are set up with 2 sets of three quotation marks and everything bracketed between these 2 sets of three quotation marks will be ignored by python and will show up as docstrings in your function. \n",
    "\n",
    "\n",
    "A very generic example of this in use is:\n",
    "\n",
    "    def FUNCTIONNAME(inputs):\n",
    "    \n",
    "        '''\n",
    "        Description of your Function. Doesn't need to be too technical unless its a highly technical function.\n",
    "        \n",
    "        \n",
    "        Inputs\n",
    "        ------------------\n",
    "        INPUT1 (DATA TYPE): Description of INPUT1\n",
    "        INPUT2 (DATA TYPE): Description of INPUT2\n",
    "        \n",
    "        \n",
    "        Returns\n",
    "        ------------------\n",
    "        OUTPUT(s) (DATA TYPE): Description of OUTPUT(s)\n",
    "        '''\n",
    "        \n",
    "        FUNCTION CODE\n",
    "        \n",
    "        return OUTPUT"
   ]
  },
  {
   "cell_type": "code",
   "execution_count": null,
   "metadata": {},
   "outputs": [],
   "source": [
    "def filter_by_mag(arr, mag):\n",
    "    \n",
    "    '''\n",
    "    This function will take an array of values and returns a subset whose magnitude is above the inputted mag.\n",
    "    \n",
    "    Inputs\n",
    "    ------------\n",
    "    arr (array, list): An array of magnitude values, will assume it's in AB Magnitudes\n",
    "    mag (float): A magnitude threshold (assumes AB Magnitudes) \n",
    "    \n",
    "    Returns\n",
    "    --------------\n",
    "    valid_mag_arr (arr): an array of magnitudes that are above the magnitude threshold\n",
    "    '''\n",
    "    \n",
    "    #defining empty array to store valid magnitudes\n",
    "    valid_mag_arr = np.array([])\n",
    "    \n",
    "    #looping over all the magnitudes in the array arr\n",
    "    for value in arr:\n",
    "        \n",
    "        if value >= mag:\n",
    "            \n",
    "            valid_mag_arr = np.append(valid_mag_arr, value)\n",
    "        \n",
    "    return valid_mag_arr"
   ]
  },
  {
   "cell_type": "code",
   "execution_count": null,
   "metadata": {},
   "outputs": [],
   "source": [
    "#Super cool facts about DocStrings\n",
    "#Try putting the mouse in between the parenthesis below and click so the cursor is there\n",
    "#Next hit shift + doubleTab\n",
    "filter_by_mag()"
   ]
  },
  {
   "cell_type": "code",
   "execution_count": null,
   "metadata": {},
   "outputs": [],
   "source": [
    "#If you did not see a little window pop-up using the above cell try using the following\n",
    "filter_by_mag??"
   ]
  },
  {
   "cell_type": "markdown",
   "metadata": {},
   "source": [
    "# Function Scope\n",
    "\n",
    "One last thing to cover about functions is something called the scope of the function. This is a fancy way of saying what variables does the function see globally and locally within the function. This is an important thing to keep in mind as you are working with Jupyter notebooks as we can run cells out of order and change variables which can impact the functions you write. \n",
    "\n",
    "There are two main scopes to keep in mind and that is: \n",
    "\n",
    "    Global Variables\n",
    "    Local Variables\n",
    "    \n",
    "Global Variables are variables that all the functions have access to. By default if you define a variable outside of the function and called it star_magnitudes then if you have that same variable name inside the function, that function will be able to access the variable star_magnitude.\n",
    "\n",
    "Local Variables are variables that are only used and seen within the function where they are used. If you have a function and define a variable called stellar_classification, only the function will know what that is and if you try to call that same variable outside the function you will get an error. That is because the scope of that variable is only within the function, since you did not define this outside the function python does not know what stellar_classification is. \n"
   ]
  },
  {
   "cell_type": "code",
   "execution_count": null,
   "metadata": {},
   "outputs": [],
   "source": [
    "#Example of using a global variable in a function\n",
    "\n",
    "Welcome_Prompt = 'Welcome to the Python Bootcamp!!'\n",
    "\n",
    "def display_welcome_prompt():\n",
    "    \n",
    "    print(Welcome_Prompt)"
   ]
  },
  {
   "cell_type": "code",
   "execution_count": null,
   "metadata": {},
   "outputs": [],
   "source": [
    "display_welcome_prompt()"
   ]
  },
  {
   "cell_type": "code",
   "execution_count": null,
   "metadata": {},
   "outputs": [],
   "source": [
    "#Seeing the difference between Global and Local reference\n",
    "\n",
    "#Global Variable\n",
    "test = 0\n",
    "\n",
    "def LOCAL_VARIABLE_EXAMPLE():\n",
    "    '''\n",
    "    Function that showcases the differences between global and local variables\n",
    "    \n",
    "    Inputs\n",
    "    -------------\n",
    "    None\n",
    "    \n",
    "    Returns\n",
    "    -------------\n",
    "    None\n",
    "    \n",
    "    '''\n",
    "    \n",
    "    #local variable\n",
    "    test = 171\n",
    "    \n",
    "    print(test)\n",
    "    \n",
    "LOCAL_VARIABLE_EXAMPLE()\n",
    "print(test)"
   ]
  },
  {
   "cell_type": "markdown",
   "metadata": {},
   "source": [
    "# Functions within Function"
   ]
  },
  {
   "cell_type": "code",
   "execution_count": null,
   "metadata": {},
   "outputs": [],
   "source": [
    "def Function1(arg1, arg2):\n",
    "    '''\n",
    "    Function that takes 2 numbers and multiplies them together\n",
    "    \n",
    "    Inputs\n",
    "    --------------------\n",
    "    arg1 (float): numerical value to multiply with arg2 \n",
    "    arg2 (float): numerical value to multiply with arg1\n",
    "    \n",
    "    Returns\n",
    "    --------------------\n",
    "    product (float): the multiplication of arg1 and arg2 (arg1 * arg2)    \n",
    "    '''\n",
    "    return arg1 * arg2\n",
    "\n",
    "def Function2(arg3, arg4, arg1, arg2):\n",
    "    \n",
    "    '''\n",
    "    Function to show a function in a function. We first compute the ratio of arg3/arg4 and then\n",
    "    use Function1 to compute the product of arg1 and arg2 and then add the two\n",
    "    \n",
    "    Inputs\n",
    "    ----------------\n",
    "    arg3 (float): numerator of the ratio arg3/arg4\n",
    "    arg4 (float): denom in ratio arg3/arg4\n",
    "    arg1 (float): parameter in Function 1 to compute arg1 * arg2\n",
    "    arg2 (float): parameter in Function 1 to compute arg1 * arg2\n",
    "    \n",
    "    Returns\n",
    "    ----------------\n",
    "    summation (float): arg3/arg4 + Function1(arg1, arg2)\n",
    "    '''\n",
    "    \n",
    "    term1 = arg3/arg4\n",
    "    term2 = Function1(arg1, arg2)\n",
    "    \n",
    "    print(f'Term 1 is: {term1}')\n",
    "    print(f'Term 2 is: {term2}')\n",
    "    \n",
    "    print(f'Summation of the two is: {term1 + term2:.2f}')\n",
    "    \n",
    "    return term1 + term2"
   ]
  },
  {
   "cell_type": "code",
   "execution_count": null,
   "metadata": {},
   "outputs": [],
   "source": [
    "val1 = Function1(2, 5)\n",
    "val2 = Function2(10, 2, 2, 5)"
   ]
  },
  {
   "cell_type": "code",
   "execution_count": null,
   "metadata": {},
   "outputs": [],
   "source": [
    "print(val1)\n",
    "print(val2)"
   ]
  },
  {
   "attachments": {
    "flowchart.png": {
     "image/png": "[encoded data removed]"
    }
   },
   "cell_type": "markdown",
   "metadata": {},
   "source": [
    "# Flowcharts and Pseudocode\n",
    "\n",
    "We covered a lot of different non-linear ways the code could execute, using if-else statements we can have certain code blocks execute if a condition is met or not met. This complicates the total programming a bit but there is a technique that we can employ to help get our thoughts together and come up with a game plan on how to build code to achieve a set tasks. One of the first things we will cover is $\\textbf{flowcharts}$, this is a visual aid in seeing what your code is actually doing and allows you to see the structure and logic of your program. An example of a flowchart is seen below.\n",
    "\n",
    "![flowchart.png](attachment:flowchart.png)\n",
    "\n",
    "\n",
    "The second technique we will cover is called $\\textbf{Pseudocode}$ and is an invaluable piece of becoming a good programmer. Psuedocode is a technique of breaking down a task and using plain english get the thought process of code onto paper in a less coding jargon way. \n",
    "\n",
    "Let's say that you are given a file and this is a catalog of high-reshift-sources or you need to query Gaia or SDSS and perform some sort of filter to get the objects in the thin or thick disk of the Milky Way. What we can do is break down each of these tasks into more bite size manageable pieces and then start thinking about how to code this up in Python. \n",
    "\n",
    "I will walk you through the following example and leave the last exercise for you to try on your own. "
   ]
  },
  {
   "cell_type": "markdown",
   "metadata": {},
   "source": [
    "# In-Class Example\n",
    "\n",
    "Your research advisor gives you a file labeled *CEERS_catalog.txt* and they ask you to go through this file and select high-confidence galaxies above redshift 5. The file has a column with the IDs of each source as well as the coordinates labeled as RA_source and DEC_source. This catalog contains everything within CEERS and has a bunch of sources that you are not interested in. Your advisor then tells you that these sources have a corresponding redshift probability distribution in a file titled *pz_sources.txt*. This redshift probability distribution is a distirbution that tells you how likely the source belongs at a given redshift. The redshift probability distribution file is set up so that each row corresponds to the redshift probability of the source. These files are set up so that the row indexes between the CEERS_catalog.txt file and the redshift probability file are linked to the same source.\n",
    "\n",
    "After talking with your advisor about the best way to select sources, you both arrive at making sure that the integral above redshift 4.5 is above 75%. This is because photometric redshifts have a lot of uncertainty, so looking for a redshift 5 source you may need to include some probability below redshift 5. You also require that the peak of the redshift probability distribution is above 5 as well. Only when a source satisfies these two conditions will you select the source as being above redshift 5. \n",
    "\n",
    "Let's breakdown the task and write out a psuedocode for this problem."
   ]
  },
  {
   "cell_type": "markdown",
   "metadata": {},
   "source": [
    "# Main Task: \n",
    "\n",
    "Finding z > 5 sources\n",
    "\n",
    "## Stuff Given to us:\n",
    "\n",
    "File 1: CEERS_catalog.txt - list of sources with the coordinates \n",
    "\n",
    "File 2: Redshift Posterior distribution file\n",
    "\n",
    "## Criteria for Selection:\n",
    "\n",
    "Criteria 1: $\\int_{4.5}^{\\infty} p(z)dz$ >= 0.75, indicating the bulk of the redshift probability is above redshift 4.5\n",
    "\n",
    "Criteria 2: Max(p(z)) >= 5"
   ]
  },
  {
   "cell_type": "markdown",
   "metadata": {},
   "source": [
    "# Breakdown of the Problem\n",
    "\n",
    "Breakdown 1: Need to read in the input files \n",
    "\n",
    "Breakdown 2: Need to compute P(z) integrals for every source \n",
    "\n",
    "Breakdown 3: Need to find peak P(z)\n",
    "\n",
    "Breakdown 4: Check if it satisifies criterias \n",
    "\n",
    "Breakdown 5: Save those IDs that satisifed criteria and subselect them in the main catalog\n",
    "\n",
    "Breakdown 5: save subset to a new file for later use\n",
    "\n",
    "# Psuedocode\n",
    "\n",
    "Read in both files \n",
    "\n",
    "Loop through each row of the redshift probability file and compute the integral above redshift 5\n",
    "\n",
    "Check where the peak of the P(z) is at \n",
    "\n",
    "If source passes our 2 criteria find ID and keep, else reject\n",
    "\n",
    "After going through every source we then select the selected IDs from the main catalog\n",
    "\n",
    "Then we save this subset to a new file"
   ]
  },
  {
   "cell_type": "markdown",
   "metadata": {},
   "source": [
    "# The End of Seminar 2 Lecture\n",
    "\n",
    "This concludes the end of seminar 2 where we covered if-else statements, which allow us to execute certain code given a condition, we covered For-Loops which are amazing ways of going through your data and perform filtering of your dataset. We covered User-Defined function which are ways of making your own functions in Python so that you can easily analyze your data. The use of DocStrings helps with the readability of your code and allows you and others know what it does, what it requires and what it returns. The last thing we covered was Psuedocode and FlowCharts as a way to think about a coding problimg by breaking it down into its basic components and in plain language follow one step to the next. Once we have done this then we can translate our pseudocode into actual code and carry out our analysis. \n",
    "\n",
    "We have provided an example below that will utilize everything we covered from Seminar 1 and Seminar 2. "
   ]
  },
  {
   "cell_type": "markdown",
   "metadata": {},
   "source": [
    "# Seminar 2 Example\n",
    "\n",
    "One thing that we astronomers have to do when we gather spectra from an object is to correct the spectra for something called dust attenuation. You can think of this concept as dust removing intensity of light from the galaxy but the thing with dust is that it does not affect all wavelengths the same, some wavelengths get more reduced than others by the presence of dust. Luckily for us a lot of work has been done to model the dust laws in galaxies that we can remove the effect of dust. Calzetti 2000 shows a functional form for accounting for dust. Our goal is to code up the dust laws to remove dust from galaxy spectra. \n",
    "\n",
    "The formula relating observed flux to the intrinsic flux and dust is as follows:\n",
    "\n",
    "$F_{obs}(\\lambda) = F_{int}(\\lambda) 10^{-0.4  E(B-V)  k(\\lambda)}$\n",
    "\n",
    "To get $F_{int}$ we solve for it and we get:\n",
    "\n",
    "$F_{int}(\\lambda) = F_{obs}(\\lambda) 10^{0.4  E(B-V)  k(\\lambda)}$\n",
    "\n",
    "Where $F_{obs}$ is the observed flux, $F_{int}$ is the intrinsic flux of the galaxy prior to dust, E(B-V) is the color difference between the B and V bands which for star forming galaxies is between 0 - 0.6, and $k(\\lambda)$ is the dust attenuation at the wavelength $\\lambda$.\n",
    "\n",
    "Our goal is to code up $F_{int}$ but for that we need k($\\lambda$). Calzetti has done work on this and found that k($\\lambda$) has the following functional form:\n",
    "\n",
    "For 0.63 $\\mu$m $\\leq$ $\\lambda$:\n",
    "\n",
    "$k(\\lambda) = 2.659(-1.857 + 1.040/ \\lambda) + R_v^{'}$\n",
    "\n",
    "For 0.12 $\\mu$m $\\leq$ $\\lambda$ < 0.63 $\\mu$m:\n",
    "\n",
    "$k(\\lambda) = 2.659(-2.156 + 1.509/\\lambda - 0.198/\\lambda^2 + 0.011/\\lambda^3) + R_v^{'}$\n",
    "\n",
    "Where $R_v^{'}$ = 4.05 $\\pm$ 0.80\n",
    "\n",
    "USEFUL INFO:\n",
    "\n",
    "$\\mu$m = 1x$10^{-6}$m\n",
    "\n",
    "Angstrom = 1x$10^{-10}$m"
   ]
  },
  {
   "cell_type": "markdown",
   "metadata": {},
   "source": [
    "# Task 1: Code up K($\\lambda$) in the cell below\n",
    "\n",
    "Write a function that takes in an array of $\\lambda$ values (in Angstroms) and computes the dust attenuation for every wavelength\n",
    "\n",
    "1. On a piece of paper, google doc or Markdown cell write out pseudocode to compute k($\\lambda$)\n",
    "2. Code up the function using $R_v^{'}$ of 4.05\n",
    "\n",
    "\n",
    "Function Output:\n",
    "\n",
    "lambda_arr = [1215.67, 4863, 5007, 6564] # in Angstroms\n",
    "\n",
    "k_lambda(lambda_arr) = [11.978700779263253, 4.596208644215301, 4.463807117496361, 3.3251559518586222]"
   ]
  },
  {
   "cell_type": "markdown",
   "metadata": {},
   "source": [
    "PSEUDOCODE GOES HERE\n",
    "\n"
   ]
  },
  {
   "cell_type": "markdown",
   "metadata": {},
   "source": []
  },
  {
   "cell_type": "code",
   "execution_count": null,
   "metadata": {},
   "outputs": [],
   "source": [
    "#Wavelength Array is in Angstroms\n",
    "lambda_arr = np.array([1215.67, 4863, 5007, 6564]) "
   ]
  },
  {
   "cell_type": "code",
   "execution_count": null,
   "metadata": {},
   "outputs": [],
   "source": [
    "#CODE HERE\n",
    "def FUNCTION_NAME_HERE():\n",
    "    \n",
    "    '''\n",
    "    \n",
    "    '''\n",
    "    \n",
    "    \n",
    "    \n",
    "    return"
   ]
  },
  {
   "cell_type": "code",
   "execution_count": null,
   "metadata": {},
   "outputs": [],
   "source": []
  },
  {
   "cell_type": "code",
   "execution_count": null,
   "metadata": {},
   "outputs": [],
   "source": []
  },
  {
   "cell_type": "code",
   "execution_count": null,
   "metadata": {},
   "outputs": [],
   "source": []
  },
  {
   "cell_type": "markdown",
   "metadata": {},
   "source": [
    "# Task 2: Code up $F_{int}$\n",
    "\n",
    "\n",
    "1. In a Markdown cell, google doc, or paper, use Pseudocode to see how you would code this up\n",
    "2. In the cell below write a function that calculates the intrinsic flux.\n",
    "\n",
    "For this example use an E(B-V) of 0.4 but have it be a parameter that anyone can change up in the function if they so desire.\n",
    "\n",
    "The output for the data below should be: [5.77683768e-15, 1.19623378e-16, 2.79642321e-16, 4.08513298e-17]"
   ]
  },
  {
   "cell_type": "code",
   "execution_count": null,
   "metadata": {},
   "outputs": [],
   "source": [
    "#use the following data for this Task\n",
    "Obs_Flux = np.array([7e-17, 2.2e-17, 5.4e-17, 1.2e-17])\n",
    "Lambda = np.array([1215.67, 4863, 5007, 6564]) "
   ]
  },
  {
   "cell_type": "code",
   "execution_count": null,
   "metadata": {},
   "outputs": [],
   "source": [
    "#CODE HERE\n",
    "\n",
    "def FUNCTION_NAME_HERE():\n",
    "    \n",
    "    '''\n",
    "    \n",
    "    '''\n",
    "    \n",
    "    \n",
    "    return "
   ]
  },
  {
   "cell_type": "code",
   "execution_count": null,
   "metadata": {},
   "outputs": [],
   "source": []
  },
  {
   "cell_type": "code",
   "execution_count": null,
   "metadata": {},
   "outputs": [],
   "source": []
  }
 ],
 "metadata": {
  "kernelspec": {
   "display_name": "Python 3 (ipykernel)",
   "language": "python",
   "name": "python3"
  },
  "language_info": {
   "codemirror_mode": {
    "name": "ipython",
    "version": 3
   },
   "file_extension": ".py",
   "mimetype": "text/x-python",
   "name": "python",
   "nbconvert_exporter": "python",
   "pygments_lexer": "ipython3",
   "version": "3.10.13"
  }
 },
 "nbformat": 4,
 "nbformat_minor": 4
}
