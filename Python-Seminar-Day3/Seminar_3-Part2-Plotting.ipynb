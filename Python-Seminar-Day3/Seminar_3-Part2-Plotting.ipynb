{
 "cells": [
  {
   "cell_type": "markdown",
   "id": "f9622994-02df-4fa9-ae45-275c51954ec9",
   "metadata": {},
   "source": [
    "# <center> NSF REU 2023 - Introduction to Python Day 3 - Part II </center>\n",
    "### <center>  written by Jackie Champagne (University of Arizona) , Oscar Chavez Ortiz and Kay Guo (UT Austin)  </center>\n",
    "\n",
    "## Day3: Plotting and image visualization"
   ]
  },
  {
   "cell_type": "markdown",
   "id": "24505c37-cda1-4e2e-914f-cedeb1d73e13",
   "metadata": {},
   "source": [
    "Once you have your results, it is important to present your results to other scientists in an effcient way. A good figure can be more powerful than 2 pages of words :) An astronomer would spend a fair amout of time  making pretty plots so let's explore that now!"
   ]
  },
  {
   "cell_type": "markdown",
   "id": "609842ff-35b3-4b00-9cc1-bf400eccc189",
   "metadata": {},
   "source": [
    "## Matplotlib.pyplot\n",
    "Nowadays, **matplotlib.pyplot** is one of the most easy-to-use plotting tools for python. \n",
    ">There are other ways to make pretty plots, such as :  \n",
    "        **plotly** :https://plotly.com  Good to make interactive plots, very powerful <br>\n",
    "        **APLpy** :\n",
    "http://aplpy.github.io\n",
    "APLpy (the Astronomical Plotting Library in Python) is a Python module aimed at producing publication-quality plots of astronomical imaging data in FITS format.<br>\n",
    "        **seaborn**: https://seaborn.pydata.org I found it useful when doing heatmaps or joint grid plots, examples: https://seaborn.pydata.org/examples/smooth_bivariate_kde.html<br>\n",
    "        "
   ]
  },
  {
   "cell_type": "markdown",
   "id": "4214948c-1399-4450-b7cb-a2fde0309455",
   "metadata": {},
   "source": [
    "### Frist of all, to use matplotlib, let's try install it and *do the magic*"
   ]
  },
  {
   "cell_type": "code",
   "execution_count": null,
   "id": "6fb350b1-cc32-4efd-853f-506c40941826",
   "metadata": {},
   "outputs": [],
   "source": [
    "#This is called a 'magic' or 'back end' \n",
    "#Here is the fulllist of magic in iPython (notebook is based on iPython) : https://ipython.readthedocs.io/en/stable/interactive/magics.html\n",
    "\n",
    "%matplotlib inline\n",
    "\n",
    "#Note that pyplot is the main package but it doesn't contain everything\n",
    "#A lot of the times you'll import other pacakges\n",
    "\n",
    "import matplotlib.pyplot as plt\n",
    "\n",
    "#A few other ones I find useful\n",
    "from matplotlib import ticker, cm\n",
    "import matplotlib.colors as colors\n",
    "import matplotlib.cbook as cbook\n",
    "from mpl_toolkits.axes_grid1 import make_axes_locatable\n",
    "from mpl_toolkits.axes_grid1.anchored_artists import AnchoredSizeBar\n",
    "from matplotlib import font_manager"
   ]
  },
  {
   "cell_type": "code",
   "execution_count": null,
   "id": "e59e30fb-f21d-423f-a237-555bfd8b57b8",
   "metadata": {},
   "outputs": [],
   "source": [
    "#We use inline to show images, but there are other choices, use the following line to find all avaliable options\n",
    "%matplotlib --list"
   ]
  },
  {
   "cell_type": "code",
   "execution_count": null,
   "id": "e45942c4-9cb7-4f96-bad6-b78ab1155092",
   "metadata": {},
   "outputs": [],
   "source": [
    "%%sh \n",
    "pwd\n",
    "#ls"
   ]
  },
  {
   "cell_type": "markdown",
   "id": "e4926905-f130-4d88-ab0b-3d864cea6b17",
   "metadata": {},
   "source": [
    "### Next, let's try to see what kind of plots we can do\n"
   ]
  },
  {
   "cell_type": "markdown",
   "id": "5f2ad271-6084-4c6c-8108-fff103772009",
   "metadata": {},
   "source": [
    "### Plot 1.1 - Line Plot and make your plots look nicer\n",
    "    plt.plot(x, y, kwargs)\n",
    "Below is an example of a cosine vs. x plot. Note that matplotlib has a default setting.\n"
   ]
  },
  {
   "cell_type": "code",
   "execution_count": null,
   "id": "f3abf76e-04ae-44c6-945f-92c6c1bd7a40",
   "metadata": {},
   "outputs": [],
   "source": [
    "import numpy as np\n",
    "import matplotlib.pyplot as plt\n",
    "\n",
    "#create the data to be plotted\n",
    "X = np.linspace(-np.pi, np.pi, 256)\n",
    "C, S = np.cos(X), np.sin(X)\n",
    "\n",
    "#the actual code to create a line plot\n",
    "plt.plot(X, C)\n",
    "plt.plot(X, S)\n",
    "\n",
    "#present the plot\n",
    "plt.show()\n"
   ]
  },
  {
   "cell_type": "markdown",
   "id": "603f0dc2-8af0-48b4-acd7-214c8add20d0",
   "metadata": {},
   "source": [
    "#### Tada! We have a plot. To make the plot more 'readable', we will add some details."
   ]
  },
  {
   "cell_type": "markdown",
   "id": "d74c5a35-a1e3-4229-b369-beb1c89ac8ec",
   "metadata": {},
   "source": [
    "Some commonly used keyword arguments to format plt.plot():\n",
    ">**color**: string, see this website for avaliable colors \"https://matplotlib.org/stable/gallery/color/named_colors.html\" <br>\n",
    ">**linewidth**:integer or float, define the width of the line<br>\n",
    ">**linestyle**: '-' (solid line), '--' (dotted line), ':' (fine dotted line), or tuples like (5, (10, 3)) represent the style \"long dash with offset\", here are more avaliable linestyples : https://matplotlib.org/stable/gallery/lines_bars_and_markers/linestyles.html <br>\n",
    ">**label**: string, will show when calling plt.legend(), LaTeX supported. <br>\n",
    ">**alpha**: Scalar, ranges from 0 to 1. Transparency of the plot.  <br>\n",
    ">**zorder**: float, Set the zorder for the artist. Artists with lower zorder values are drawn first.\n",
    "\n",
    "    "
   ]
  },
  {
   "cell_type": "markdown",
   "id": "8bc90a83-389d-451b-a53d-e887a30de02d",
   "metadata": {},
   "source": [
    "Some commonly used functions for presenting the figure:\n",
    "> **plt.xlim(lower limit, upper limit); plt.ylim(lower limit, upper limit)**  <br>\n",
    "> **plt.xlabel('label_name_for_x'); plt.ylabel('label_name_for_y')**<br>\n",
    ">> **fontsize**:scalar, change the size of the font <br>\n",
    "\n",
    ">**plt.grid()**: add grid to the plot\n",
    ">**plt.title('title name')**: add the title, default above the plot\n",
    ">> **fontsize**:scalar, change the size of the font <br>\n",
    "\n",
    ">**plt.legend()**: Show legends, very useful when you have multiple plots in one figure. \n",
    ">> **fontsize**:scalar, change the size of the font <br>\n",
    ">> **loc**: location, can be an integer or string. See here for location string and location code:https://matplotlib.org/3.1.1/api/_as_gen/matplotlib.pyplot.legend.html"
   ]
  },
  {
   "cell_type": "code",
   "execution_count": null,
   "id": "bf4dfd86-2482-4c31-a81a-d7ff20951643",
   "metadata": {},
   "outputs": [],
   "source": [
    "\n",
    "#the actual code to create a line plot\n",
    "plt.plot(X, C,  color=\"blue\", linewidth=2.0, linestyle=\"--\", label = 'y = cos(x)', alpha = 0.3)\n",
    "plt.plot(X, S,  color=\"orange\", linewidth=5.0, linestyle=(5, (10, 3)), label = 'y = sin(x)', zorder = 10)\n",
    "\n",
    "#Add lables to the x and y axis, the label is a string variable\n",
    "plt.xlabel('x', fontsize = 15)\n",
    "plt.ylabel('y', fontsize = 15.5)\n",
    "\n",
    "#set the limit\n",
    "plt.xlim(-np.pi, np.pi)\n",
    "plt.ylim(-1, 1)\n",
    "\n",
    "#show the legend\n",
    "plt.legend(loc = 'lower right', fontsize = 20)\n",
    "\n",
    "#show the grid\n",
    "plt.grid()\n",
    "\n",
    "#show the title of the plot\n",
    "plt.title('y = cos(x) and y = sin(x)', fontsize = 25)\n",
    "\n",
    "#present the plot\n",
    "plt.show()\n"
   ]
  },
  {
   "cell_type": "markdown",
   "id": "2331072f-317b-4b0e-a0ee-8f1fb933afb4",
   "metadata": {},
   "source": [
    "#### More on Ticks: Set ticks and tick labels"
   ]
  },
  {
   "cell_type": "markdown",
   "id": "b83847e8-aee1-4de9-9b38-4594b848d699",
   "metadata": {},
   "source": [
    "You can set ticks using :\n",
    ">**plt.yticks**(np.arange(3), ['Tom', 'Dick', 'Sue'])  # Set text labels. <br>\n",
    ">or **plt.yticks**(ticks = np.arange(3), labels = ['Tom', 'Dick', 'Sue'])  # Set text labels.<br>\n",
    "\n",
    "If you do **plt.xticks([])**, you disable the ticks."
   ]
  },
  {
   "cell_type": "code",
   "execution_count": null,
   "id": "6b8ba8c2-6c12-42a2-83e1-905bfcc96720",
   "metadata": {},
   "outputs": [],
   "source": [
    "#the actual code to create a line plot\n",
    "plt.plot(X, C,  color=\"blue\", linewidth=2.0, linestyle=\"--\", label = 'y = cos(x)', alpha = 0.3)\n",
    "plt.plot(X, S,  color=\"orange\", linewidth=5.0, linestyle=(5, (10, 3)), label = 'y = sin(x)', zorder = 10)\n",
    "\n",
    "#Add lables to the x and y axis, the label is a string variable\n",
    "plt.xlabel('x', fontsize = 15)\n",
    "plt.ylabel('y', fontsize = 15.5)\n",
    "\n",
    "#set the limit\n",
    "plt.xlim(-np.pi, np.pi)\n",
    "plt.ylim(-1, 1)\n",
    "\n",
    "\n",
    "\n",
    "############################################################### newly added code begins #######################################################\n",
    "\n",
    "#mannually set the tick labels\n",
    "plt.xticks(ticks =[-np.pi, -np.pi/2, 0, np.pi/2, np.pi],\n",
    "          labels = [r'$-\\pi$', r'$-\\pi/2$', r'$0$', r'$+\\pi/2$', r'$+\\pi$']) # set both tick and tick labels\n",
    "\n",
    "plt.yticks([-1, 0, +1], []) # set ticks on y to be -1, 0, and 1, but set label to [] so nothing will be shown.\n",
    "\n",
    "############################################################### newly added code ends ########################################################\n",
    "\n",
    "\n",
    "#show the legend\n",
    "plt.legend(loc = 'lower right', fontsize = 20)\n",
    "\n",
    "#show the grid\n",
    "plt.grid()\n",
    "\n",
    "#show the title of the plot\n",
    "plt.title('y = cos(x) and y = sin(x)', fontsize = 25)\n",
    "\n",
    "#present the plot\n",
    "plt.show()\n",
    "\n",
    "\n",
    "\n",
    "\n"
   ]
  },
  {
   "attachments": {
    "4996104a-f2bb-4d61-ac13-23de707b65ef.png": {
     "image/png": "[encoded data removed]"
    }
   },
   "cell_type": "markdown",
   "id": "d3c00343-8dcd-42aa-b31f-c885b395ebc7",
   "metadata": {},
   "source": [
    "### Exercise: Format your plot<br>\n",
    "Another useful funtion is **plt.xscale('log', base =10) or plt.yscale('log', base =10)**<br>\n",
    "\n",
    "    Please make a plot that looks like figure \"example_figure.jpg\" \n",
    "    In the figure, the fontsize is 15, linewidth is 4 for everything. \n",
    "    alpha = 0.3 and zorder = 1 for log10(x)\n",
    "    You will need to mannually set the ticks and limits\n",
    "    \n",
    "![example_figure.png](attachment:4996104a-f2bb-4d61-ac13-23de707b65ef.png)\n"
   ]
  },
  {
   "cell_type": "code",
   "execution_count": null,
   "id": "3b0fcd14-0d1b-43af-bbf8-226f57cbb8d1",
   "metadata": {},
   "outputs": [],
   "source": [
    "# import pandas to read data 'example_data_to_read' and then do the plotting\n"
   ]
  },
  {
   "cell_type": "markdown",
   "id": "f8227e5b-666e-40e4-9bb2-1b37cf29ee3c",
   "metadata": {},
   "source": [
    "## Plot 2.1: make subplots\n",
    "A lot of times a figure would have multiple panels. In that case, we would use **plt.subplots()** to create a multiple panel image. Here below shows how to do a subplots and at the same time introduce other types of plots.<br>\n",
    "See the example below, we use **fig, ax = plt.subplots(2, 3, figsize = (15, 10))**<br>\n",
    "We create a figure object -> fig. Figure is the top level container for all the plot elements. You can treat 'fig' like a canvas <br>\n",
    "You can treat **ax** as a 2x3 array, which each entry (e.g., ax[0,0]) is an *Axes* object that can be added plots to.<br>\n",
    "**Note that with *Axes*, the function names (e.g., xlim, ylim, xticks, xscale, title.....) will become set_xlim, set_xscale, set_title ....etc.Please see the example below**\n"
   ]
  },
  {
   "cell_type": "code",
   "execution_count": null,
   "id": "21b8471d-0868-4671-8f2b-6298ec518977",
   "metadata": {},
   "outputs": [],
   "source": [
    "\n",
    "\n",
    "# First create some toy data:\n",
    "x_1 = np.linspace(0, 2*np.pi, 50)\n",
    "y_1 = np.sin(x_1**2)\n",
    "\n",
    "np.random.seed(19680801)\n",
    "mu, sigma = 0, 0.1 # mean and standard deviation\n",
    "n_1 = np.random.normal(mu, sigma, 1000)\n",
    "n_2 = np.random.normal(mu+0.1, sigma, 1000)\n",
    "\n",
    "n_3 = np.random.standard_normal(100000)\n",
    "n_4 = 2.0 + 3.0 * n_3 + 4.0 * np.random.standard_normal(100000)\n",
    "\n",
    "def f(x, y):\n",
    "    return (1 - x / 2 + x ** 5 + y ** 3) * np.exp(-x ** 2 -y ** 2)\n",
    "\n",
    "num = 256\n",
    "x_f = np.linspace(-3, 3, num)\n",
    "y_f = np.linspace(-3, 3, num)\n",
    "X_f, Y_f = np.meshgrid(x_f, y_f)\n",
    "\n",
    "\n",
    "\n",
    "\n",
    "# Create just a figure and only one subplot\n",
    "# Create a plot of 6 subplots with 2 rows and 3 columns\n",
    "fig, ax = plt.subplots(2,3, figsize=(15, 10))\n",
    "\n",
    "\n",
    "#line plot being put in row 1 and column 1 plot, don't forget the 0 indexing\n",
    "ax[0,0].plot(x_1, y_1, lw = 3, c= 'blue') \n",
    "ax[0,0].set_title('line plot', fontsize =15)\n",
    "ax[0,0].set_xlim(0,4)\n",
    "ax[0,0].grid()\n",
    "\n",
    "#scatter plot being put in row 2 and column 1 plot, don't forget the 0 indexing\n",
    "ax[1,0].scatter(x_1, y_1, s = 20, marker = '*', c= 'green') # s = size of the marker; marker = '*' set the marker style, c is color.\n",
    "ax[1,0].set_title('Scatter plot', fontsize =15)\n",
    "\n",
    "ax[1,0].errorbar(x_1, y_1, xerr= None, yerr= np.abs(y_1*0.4), marker = '*', c= 'green', ls='none') # s = size of the marker; marker = '*' set the marker style, c is color.\n",
    "ax[1,0].set_title('Scatter plot and error bar', fontsize =15)\n",
    "\n",
    "\n",
    "\n",
    "#histogram\n",
    "ax[0,1].hist(n_1, bins = 15, color= 'red', histtype = 'stepfilled',label = r'$\\mu$ =1')\n",
    "ax[0,1].hist(n_2, bins = 15, color= 'black', histtype = 'step', lw = 4,label = r'$\\mu$ =1.1')\n",
    "ax[0,1].set_title('Histogram', fontsize =15)\n",
    "ax[0,1].legend()\n",
    "\n",
    "\n",
    "\n",
    "#heat map with color bar\n",
    "hb = ax[1,1].hexbin(n_3, n_4, gridsize=50, cmap='inferno')\n",
    "ax[1,1].set_xlim(n_3.min(), n_3.max())\n",
    "ax[1,1].set_ylim(n_4.min(), n_4.max())\n",
    "ax[1,1].set_title(\"Hexagon binning heatmap\", fontsize =15)\n",
    "cb = fig.colorbar(hb, ax=ax[1,1], label='counts')\n",
    "\n",
    "\n",
    "#contour plot\n",
    "ax[0,2].contourf(X_f, Y_f, f(X_f, Y_f), 8, alpha=.75, cmap='jet')  #f stands for filled colors\n",
    "ax[0,2].contour(X_f, Y_f, f(X_f, Y_f), 8, colors='black', linewidths = .5)\n",
    "ax[0,2].set_title('Contour plot', fontsize =15)\n",
    "\n",
    "\n",
    "#Please add the plot you created in the last exercise to the empty Axes below, formatting that correctly"
   ]
  },
  {
   "cell_type": "markdown",
   "id": "239f0d09-a6b1-439f-8d8b-c14fdde45238",
   "metadata": {},
   "source": [
    "### Exercise: Please add the plot you created in the last exercise to the empty Axes above, with correct formattings"
   ]
  },
  {
   "cell_type": "markdown",
   "id": "65540bd4-d8f3-4b99-b007-79a489ea285e",
   "metadata": {},
   "source": [
    "## Save the image\n",
    "There are two mainly used : **plt.savefig() or fig.savefig().** If you created a 'figure' object named 'fig', the later function usually works better. Important note: do savefig() before plt.show(), see Notes for details: https://matplotlib.org/stable/api/_as_gen/matplotlib.pyplot.show.html\n",
    "\n",
    ">**filename**:The first argument (string) is the name of the file *Please be careful that savefig does overwrite if you generate the files with the same name multiple times*<br>\n",
    ">**format**: string, 'png', 'pdf','jpg'... format of the files<br>\n",
    ">**dpi**: integer, resolution<br>\n",
    ">**bbox_inches='tight'** is a useful one and in theory this can remove the white edges, but in practice this does not always work."
   ]
  },
  {
   "cell_type": "code",
   "execution_count": null,
   "id": "e68a3a00-14de-4e76-a2f6-cec1bd4e8402",
   "metadata": {},
   "outputs": [],
   "source": [
    "#create the data to be plotted\n",
    "#X = np.linspace(-np.pi, np.pi, 256)\n",
    "#C, S = np.cos(X), np.sin(X)\n",
    "\n",
    "#the actual code to create a line plot\n",
    "plt.plot(X, C)\n",
    "plt.plot(X, S)\n",
    "\n",
    "#present the plot\n",
    "plt.savefig('Example_save_test_1.png', format = 'png',dpi = 300, bbox_inches='tight')\n",
    "\n",
    "plt.show()\n",
    "\n"
   ]
  },
  {
   "cell_type": "markdown",
   "id": "9c31e2a5-3280-4ae5-9234-0b22b2f5e6d5",
   "metadata": {},
   "source": [
    "### Exercise: save the subplots you made in plot 2.2 as 'Example_save_test_2.png'"
   ]
  },
  {
   "cell_type": "code",
   "execution_count": null,
   "id": "579f5b7c-8590-4c9c-b2e8-79dcdb8770eb",
   "metadata": {},
   "outputs": [],
   "source": [
    "\n"
   ]
  },
  {
   "cell_type": "markdown",
   "id": "f12ff554-e251-423f-9c44-13e6e7fc6ff5",
   "metadata": {},
   "source": [
    "### Explore 2D plotting with imshow()\n",
    "**imshow()** is a useful way to present images. We give a quick example in the Day 1 seminar."
   ]
  },
  {
   "cell_type": "code",
   "execution_count": null,
   "id": "301b7f85-ed83-4430-a4eb-5808a560ef50",
   "metadata": {},
   "outputs": [],
   "source": [
    "\n",
    "from astropy.modeling.models import Sersic2D\n",
    "\n",
    "\n",
    "##### generate the toy data for the figure ####\n",
    "x,y = np.meshgrid(np.arange(100), np.arange(100))\n",
    "mod = Sersic2D(amplitude = 1, r_eff = 25, n=4, x_0=50, y_0=50,\n",
    "               ellip=.3, theta=-1)\n",
    "img = mod(x, y)\n",
    "\n",
    "#this is the image you put into the plot too1\n",
    "#print(log_img) in the next cell to see that you'll get a two-d array of values\n",
    "log_img = np.log10(img)\n",
    "\n",
    "\n",
    "\n",
    "#### start plotting #######\n",
    "\n",
    "plt.figure()\n",
    "plt.imshow(log_img, origin='lower', interpolation = 'nearest',\n",
    "           vmin=-1, vmax=2, cmap = 'hot')\n",
    "plt.xlabel('x')\n",
    "plt.ylabel('y')\n",
    "cbar = plt.colorbar()\n",
    "cbar.set_label('Log Brightness', rotation=270, labelpad=25)\n",
    "cbar.set_ticks([-1, 0, 1, 2])\n",
    "plt.show()"
   ]
  },
  {
   "cell_type": "code",
   "execution_count": null,
   "id": "b0afb0e2-9ca2-4a20-96db-0ee7a92aa5b3",
   "metadata": {},
   "outputs": [],
   "source": [
    "from astropy.io import fits\n",
    "\n",
    "blue = fits.open('blue.fits')[0].data.T\n",
    "red = fits.open('red.fits')[0].data.T\n",
    "green = fits.open('green.fits')[0].data.T\n",
    "output = np.array([red, green, blue]).T\n",
    "\n",
    "print('The shape of the color image cube is ', np.shape(output))\n",
    "print('Each layer is r, g, b, in order')\n",
    "\n",
    "fig, ax = plt.subplots(1, 4, figsize = (12,7))\n",
    "\n",
    "\n",
    "ax[0].imshow(output[:,:,0],origin = 'upper', cmap = 'gray')\n",
    "ax[0].set_title('R')\n",
    "\n",
    "ax[1].imshow(output[:,:,1],origin = 'upper',cmap = 'gray')\n",
    "ax[1].set_title('G')\n",
    "\n",
    "ax[2].imshow(output[:,:,2],origin = 'upper',cmap = 'gray')\n",
    "ax[2].set_title('B')\n",
    "\n",
    "ax[3].imshow(output,origin = 'upper')\n",
    "ax[3].set_title('color')\n",
    "\n",
    "for i in range(4):\n",
    "    ax[i].set_xticks([])\n",
    "    ax[i].set_yticks([])\n",
    "\n",
    "#output = np.reshape(np.array([red, green, blue]).T, (1920, 1080,3))"
   ]
  },
  {
   "cell_type": "markdown",
   "id": "655f80c8-2d07-43f0-8ccd-d8eae7e82dc0",
   "metadata": {},
   "source": [
    "### Exercise: \n",
    "    Read the 'Final_Sample.txt' you created in the Part I of the notebook, and then plot photometry with error bar vs. filter for the galaxies in the Aegis field. You can use the following wavelength for 4000, 5500, 8000, 9000A for g, r,i, z bands, respectively. Make clear legends, title, axis names and make a plot of two panels."
   ]
  },
  {
   "cell_type": "markdown",
   "id": "54e6c239-2f5f-461f-aa2d-83593c25cd15",
   "metadata": {},
   "source": [
    "### Extra Notes: LaTeX labels\n",
    "    \n",
    "    Also, for labeling purposes, you can use Greek letters the same way as in LaTeX. You'll learn more about LaTeX in another seminar, but the basic syntax for greek letters is '$\\[greeklettername]'. For instance (double click this cell to see the markup):\n",
    "\n",
    "$\\alpha$ \n",
    "$\\beta$\n",
    "$\\Gamma$\n",
    "$\\Lambda$\n",
    "\n",
    "All symbols are enclosed in dollar signs and begin with a backslash. There are also astronomy-specific ones that might come in handy, like the solar symbol ('odot'). Example: this star has a mass of 10 $M_{\\odot}$. \n",
    "\n",
    "Here is a comprehensive list of LaTeX symbols: https://math.uoregon.edu/wp-content/uploads/2014/12/compsymb-1qyb3zd.pdf\n",
    "\n"
   ]
  },
  {
   "cell_type": "markdown",
   "id": "b02af5e9-ad8b-4636-9f3d-a3e7a9a59a68",
   "metadata": {},
   "source": [
    "### Extra Notes: rcParams or using the rcParams files\n",
    "    Another helpful tool is your matplotlibrc file which can be customized with a default color setting, font size, minor ticks, you name it. I've included one in this directory, which is automatically read in when you start the notebook. The fonts are larger, the colors are more colorblind friendly, and minor ticks are automatically on here -- all better than Python defaults! More on editing it here: https://matplotlib.org/3.5.0/tutorials/introductory/customizing.html Note that it will check your working directory first, so move this around if you want to use it.\n",
    "    Sometimes I don't need to change everything, so I would use the rcParams directly to set a few things for this jupyter notebook. Here is an example below. Note: those settings can be later overwritten.\n",
    "    "
   ]
  },
  {
   "cell_type": "code",
   "execution_count": null,
   "id": "e4b6d5e7-8be2-4c66-83e1-601cfed1898b",
   "metadata": {},
   "outputs": [],
   "source": [
    "#### Can turn off Param format with use_format = False ####\n",
    "use_format =False\n",
    "#### Can turn off Param format with use_format = False ####\n",
    "\n",
    "from matplotlib import rcParams \n",
    "if use_format == True:\n",
    "    rcParams['axes.labelsize'] = 10\n",
    "    rcParams['axes.titlesize'] = 10\n",
    "    rcParams['xtick.labelsize'] = 5\n",
    "    rcParams['ytick.labelsize'] = 5\n",
    "    rcParams['legend.fontsize'] = 15\n",
    "    rcParams['font.family'] = 'serif'\n",
    "    #rcParams['font.serif'] = ['Computer Modern Roman']\n",
    "    rcParams['text.usetex'] = False\n",
    "    rcParams['figure.figsize'] = 5, 5\n",
    "else:\n",
    "    plt.rcdefaults()"
   ]
  },
  {
   "cell_type": "markdown",
   "id": "db8a482f-2351-49f4-b2c9-ef17c78fedfd",
   "metadata": {},
   "source": [
    "If you then want to remove the formatting, call : **plt.rcdefaults()** before generating plots again."
   ]
  },
  {
   "cell_type": "markdown",
   "id": "f810f065-ab62-448a-a5c1-57c0e5a2b79b",
   "metadata": {},
   "source": [
    "### Extra Notes: color blind friendly\n",
    "    Here is a useful website to test if your plot is clear to color blind people. :https://www.color-blindness.com/coblis-color-blindness-simulator/ \n",
    "    Another good practice is to use different color and different linestyles (or different markers) at the same time."
   ]
  },
  {
   "cell_type": "code",
   "execution_count": null,
   "id": "29a5b471-e8bc-4d70-8eb8-0e9dfaeca5f8",
   "metadata": {},
   "outputs": [],
   "source": []
  }
 ],
 "metadata": {
  "kernelspec": {
   "display_name": "Python 3 (ipykernel)",
   "language": "python",
   "name": "python3"
  },
  "language_info": {
   "codemirror_mode": {
    "name": "ipython",
    "version": 3
   },
   "file_extension": ".py",
   "mimetype": "text/x-python",
   "name": "python",
   "nbconvert_exporter": "python",
   "pygments_lexer": "ipython3",
   "version": "3.10.13"
  }
 },
 "nbformat": 4,
 "nbformat_minor": 5
}
