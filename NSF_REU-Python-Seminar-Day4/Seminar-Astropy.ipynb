{
 "cells": [
  {
   "cell_type": "markdown",
   "metadata": {},
   "source": [
    "# <center> NSF REU 2024- Introduction to Python Day 4 </center>\n",
    "### <center>  written by Jackie Champagne (University of Arizona) , Oscar Chavez Ortiz and Kay Guo (UT Austin)  </center>\n",
    "\n",
    "# Day4: Astropy, FITS files & Imaging"
   ]
  },
  {
   "cell_type": "markdown",
   "metadata": {},
   "source": [
    "A package I highly recommend you become familiar with is **astropy**. This includes a library of astronomical constants and unit conversions, coordinate conversions, cosmological calculations, image processing, and much more! There are many components of astropy that we won't be able to cover, but as a sneak peak you can deal with tables of data, measuring photometry, and processing psfs in images. See more here: https://docs.astropy.org/en/stable/index.htm\n"
   ]
  },
  {
   "cell_type": "code",
   "execution_count": null,
   "metadata": {},
   "outputs": [],
   "source": [
    "import astropy\n",
    "astropy.__version__\n"
   ]
  },
  {
   "cell_type": "markdown",
   "metadata": {},
   "source": [
    "## Astropy: Units & Constants\n",
    "\n",
    "The most basic use for Astropy is **units and constants.** I highly recommend using the constants within Astropy so that a) you're not constantly Googling them, and b) The constants are loaded with units as well, making conversions between them quite easy.\n",
    "\n",
    "*One quick disclaimer is that the solar mass constant is slightly out of date, so researchers doing high-precision stellar work may need to keep that in mind.*\n",
    "\n",
    "Load up the constants as well as our other usual packages:"
   ]
  },
  {
   "cell_type": "markdown",
   "metadata": {},
   "source": [
    "#### Constants"
   ]
  },
  {
   "cell_type": "code",
   "execution_count": null,
   "metadata": {},
   "outputs": [],
   "source": [
    "# import the consts\n",
    "# Only import certain packages\n",
    "from astropy import constants as const\n",
    "\n",
    "import numpy as np\n",
    "\n",
    "import matplotlib.pyplot as plt"
   ]
  },
  {
   "cell_type": "markdown",
   "metadata": {},
   "source": [
    "To call a constant, simply type const.(constant) where the symbols are generally the same as what's in your textbooks. For example, G is Newton's gravitational constant:"
   ]
  },
  {
   "cell_type": "code",
   "execution_count": null,
   "metadata": {},
   "outputs": [],
   "source": [
    "G = const.G\n",
    "\n",
    "#print(G)\n",
    "#const.G\n",
    "\n",
    "#const.G.unit"
   ]
  },
  {
   "cell_type": "markdown",
   "metadata": {},
   "source": [
    "Calling the constant will give you a bunch of information about it, including its name, value, uncertainty, and SI unit. Astropy is not in cgs units, but it's easy to convert by adding .cgs to the end of the unit:"
   ]
  },
  {
   "cell_type": "code",
   "execution_count": null,
   "metadata": {},
   "outputs": [],
   "source": [
    "G_cgs = const.G.cgs\n",
    "\n",
    "print(G_cgs)"
   ]
  },
  {
   "cell_type": "markdown",
   "metadata": {},
   "source": [
    "This can be very helpful when using normalized equations. **Note that Python will have trouble with certain units: for example, it doesn't know it can cancel out Hz and seconds. Also, if there are units inside a log expression, it will complain.** So if you already know your units work out and you just want the value, you can type .value!\n",
    "\n",
    "These can also be combined, like G.cgs.value."
   ]
  },
  {
   "cell_type": "code",
   "execution_count": null,
   "metadata": {},
   "outputs": [],
   "source": [
    "G_value = const.G.value\n",
    "\n",
    "print('G_value is ', G_value, '\\nG_value has the type of', type(G_value))"
   ]
  },
  {
   "cell_type": "code",
   "execution_count": null,
   "metadata": {},
   "outputs": [],
   "source": [
    "print('h', const.h,'\\n')\n",
    "\n",
    "print('c', const.c,'\\n')\n",
    "\n",
    "print('M_sun', const.M_sun,'\\n')"
   ]
  },
  {
   "cell_type": "markdown",
   "metadata": {},
   "source": [
    "#### Units\n",
    "When doing analysis, we have to do deal with datasets that have different units. It's always helpful to add a unit to your data to reduce calculation errors. Here is the link to astropy.units : https://docs.astropy.org/en/stable/units/index.html\n"
   ]
  },
  {
   "cell_type": "code",
   "execution_count": null,
   "metadata": {},
   "outputs": [],
   "source": [
    "from astropy import units as u\n",
    "\n",
    "R = 1.0 * u.kpc\n",
    "\n",
    "print(R)\n"
   ]
  },
  {
   "cell_type": "code",
   "execution_count": null,
   "metadata": {},
   "outputs": [],
   "source": [
    "#It can be more complex units\n",
    "a = 3* u.km*u.s**2"
   ]
  },
  {
   "cell_type": "code",
   "execution_count": null,
   "metadata": {},
   "outputs": [],
   "source": [
    "# units can be added to an array\n",
    "flux_arr = np.array([1,2,3,4,5,6,7])\n",
    "flux_arr_withu = flux_arr*u.nJy\n",
    "print(flux_arr_withu)\n",
    "print(flux_arr_withu[3])"
   ]
  },
  {
   "cell_type": "markdown",
   "metadata": {},
   "source": [
    "### The powerful **.to()** \n",
    "    Unit conversion"
   ]
  },
  {
   "cell_type": "code",
   "execution_count": null,
   "metadata": {},
   "outputs": [],
   "source": [
    "# G in kpc3/Msun Gyr2 is used a lot in astronomy\n",
    "G_weirdunits = const.G.to('kpc3 / (Msun Gyr2)')\n",
    "\n",
    "print(G_weirdunits)\n",
    "\n",
    "#you can aslo do this in the other way\n",
    "G_weirdunits_test = const.G.to(u.kpc**3/(u.Msun*u.Gyr**2))"
   ]
  },
  {
   "cell_type": "code",
   "execution_count": null,
   "metadata": {},
   "outputs": [],
   "source": [
    "# We define  flux_arr_withu , let's change the units for the whole array\n",
    "flux_arr_withu.to(u.Jy)\n"
   ]
  },
  {
   "cell_type": "markdown",
   "metadata": {},
   "source": [
    "### Exercise\n",
    "\n",
    "We know stefan-Boltzman law:\n",
    "    $L = 4\\sigma_{sb}$$\\pi$$R^2T^4$, now you have R = 700000km, T = 6000K, please give me the L value in units : L_sun (luminosity of the sun)\n",
    "    You can find the constants here : https://docs.astropy.org/en/stable/constants/index.html\n",
    "    "
   ]
  },
  {
   "cell_type": "code",
   "execution_count": null,
   "metadata": {},
   "outputs": [],
   "source": []
  },
  {
   "cell_type": "markdown",
   "metadata": {},
   "source": [
    "## Astropy: Cosmological Calculations\n",
    "\n",
    "There's a good chance you will need to calculate things like luminosity distance, angular diameter distance, or age of the Universe, especially if you are doing high-redshift work. To do cosmology in astropy, first set the cosmological parameters, like so:"
   ]
  },
  {
   "cell_type": "code",
   "execution_count": null,
   "metadata": {},
   "outputs": [],
   "source": [
    "from astropy.cosmology import FlatLambdaCDM\n",
    "\n",
    "cosmo=FlatLambdaCDM(H0=70., Om0=0.3)"
   ]
  },
  {
   "cell_type": "markdown",
   "metadata": {},
   "source": [
    "This sets the Hubble constant to 70 km/s / Mpc and the matter density factor, $\\Omega_M$, to 0.3. The cosmological calculations are attributes of FlatLambdaCDM which we've set to \"cosmo.\" Here are a couple of examples:"
   ]
  },
  {
   "cell_type": "code",
   "execution_count": null,
   "metadata": {},
   "outputs": [],
   "source": [
    "#latest version\n",
    "from astropy.cosmology import Planck18 as cosmo\n",
    "\n",
    "#put redshfit and it will convert redshift to distance \n",
    "\n",
    "LD4 = cosmo.luminosity_distance(4)#.to('kpc').value\n",
    "ADD4 = cosmo.angular_diameter_distance(4)\n",
    "\n",
    "Age4 = cosmo.age(4)\n",
    "\n",
    "print(Age4)\n",
    "print(LD4.to('kpc').value)"
   ]
  },
  {
   "cell_type": "markdown",
   "metadata": {},
   "source": [
    "#### Exercise \n",
    "    Find out what is the age of the universe with Planck18\n",
    "    Masie's galaxy is about redshift of 12, find out what is the luminosity_distance of it, and convert that into units of km."
   ]
  },
  {
   "cell_type": "code",
   "execution_count": null,
   "metadata": {},
   "outputs": [],
   "source": []
  },
  {
   "cell_type": "markdown",
   "metadata": {},
   "source": [
    "## Astropy: Sky Coordinate Systems\n",
    "\n",
    "Another fundamental part of astronomy is celestial coordinate systems. You will quickly learn that there are many ways to present the locations of objects in the sky: through right ascension and declination vs. galactic longitude and latitude for instance, or in degrees vs. hourangle, or in different frames of reference. With astropy.coordinates it is easy to convert between these."
   ]
  },
  {
   "cell_type": "code",
   "execution_count": null,
   "metadata": {},
   "outputs": [],
   "source": [
    "from astropy.coordinates import SkyCoord\n",
    "\n",
    "#Say you want to define a star at 150.00 degrees, +2.00 degrees\n",
    "\n",
    "#either would work\n",
    "coords = SkyCoord(ra=150.0, dec=2.00, unit='deg', frame='icrs')\n",
    "coords_2 = SkyCoord(ra=150.0*u.deg, dec=2.00*u.deg)\n",
    "\n",
    "\n",
    "\n",
    "coords.ra"
   ]
  },
  {
   "cell_type": "markdown",
   "metadata": {},
   "source": [
    "Now we can access other information or convert it to another format."
   ]
  },
  {
   "cell_type": "code",
   "execution_count": null,
   "metadata": {},
   "outputs": [],
   "source": [
    "print(coords.ra.hms)\n",
    "print(coords.dec.degree)\n",
    "print(coords.to_string('hmsdms'))\n",
    "\n",
    "# Can convert to galactic coordinates l, b\n",
    "coords_galactic = coords.galactic\n",
    "print(coords_galactic)"
   ]
  },
  {
   "cell_type": "markdown",
   "metadata": {},
   "source": [
    "# Matches and Separations\n",
    "\n",
    "SkyCoord objects have some pretty awesome attributes that allow you to match between two different catalogs and gives a quick and easy way to compute the separation between different objects. This comes in handy when you need to find an imaging counterpart for an emission line, or when you are checking the astrometry (coordinates) of an image.\n",
    "\n",
    "For more information click the link here: https://docs.astropy.org/en/stable/coordinates/matchsep.html\n",
    "\n",
    "The first thing we will cover is separation. It takes two Sky Coordinates objects and it will give you back the separation between them."
   ]
  },
  {
   "cell_type": "code",
   "execution_count": null,
   "metadata": {},
   "outputs": [],
   "source": [
    "coords = SkyCoord(ra=150.0, dec=2.00, unit='deg', frame='icrs')\n",
    "counterpart = SkyCoord(ra=150.000056, dec=2.000043, unit='deg', frame='icrs')\n",
    "\n",
    "sep = coords.separation(counterpart)\n",
    "\n",
    "print(f'The separation of the counterpart is: {sep}')\n",
    "print(f'The separation of the counterpart is: {sep.to(u.arcsec)}')"
   ]
  },
  {
   "cell_type": "code",
   "execution_count": null,
   "metadata": {},
   "outputs": [],
   "source": [
    "#You can also change the units of the separation with ease using the following\n",
    "\n",
    "#give separation in arcseconds\n",
    "print(f'Separation in arcseconds is: {sep.to(u.arcsec):.3f}')\n",
    "\n",
    "#give separation in arcminutes\n",
    "print(f'Separation in arcminutes is: {sep.to(u.arcmin):.5f}')\n",
    "\n",
    "#gives separation in degrees\n",
    "print(f'Separation in degrees is: {sep.to(u.deg):.6}')\n",
    "\n",
    "#gives separation in radian\n",
    "print(f'Separation in radians is: {sep.to(u.radian):.8f}')"
   ]
  },
  {
   "cell_type": "code",
   "execution_count": null,
   "metadata": {},
   "outputs": [],
   "source": [
    "#You can also find separation between an array of SkyCoordinates\n",
    "\n",
    "skycoord_arrays = SkyCoord(ra = np.random.uniform(100, 200, 10000) * u.degree, \n",
    "                           dec = np.random.uniform(0, 10, 10000) * u.degree)\n",
    "\n",
    "sep = coords.separation(skycoord_arrays).to(u.arcsec)\n",
    "\n",
    "\n",
    "print(sep)"
   ]
  },
  {
   "cell_type": "code",
   "execution_count": null,
   "metadata": {},
   "outputs": [],
   "source": [
    "#you can then impose conditions to find candidate counterparts by using a search radius\n",
    "\n",
    "#makes a boolean mask for us to then apply to sep variable to filter only the \n",
    "#sources that satisfy this condition\n",
    "possible_match_mask = sep.degree < 1 #searching around a 1 degree search radius\n",
    "\n",
    "print('Matches in skycoords array within 1 degree of coords:')\n",
    "skycoord_arrays[possible_match_mask]"
   ]
  },
  {
   "cell_type": "markdown",
   "metadata": {},
   "source": [
    "##  Exercise:\n",
    "    Read the Final_Sample.txt from yestersday's Seminar\n",
    "    Read the RA/DEC  (they are in units of degree)\n",
    "    Calculate the seperration bewteen the first two sources: source index = 112 and source index = 145.\n",
    "    Show the seperation in units of arcsec\n",
    "    \n"
   ]
  },
  {
   "cell_type": "markdown",
   "metadata": {},
   "source": [
    "# Matching Catalogs\n",
    "\n",
    "The next very useful attribute of skycoords is its ability to quickly find nearby matches between two different catalogs. "
   ]
  },
  {
   "cell_type": "code",
   "execution_count": null,
   "metadata": {},
   "outputs": [],
   "source": [
    "import pandas as pd\n",
    "\n",
    "spectra_df = pd.read_csv('NEP_Spectra_Sources_Coordinates.txt', sep = ' ', index_col = 0)\n",
    "\n",
    "photom_df = pd.read_csv('NEP_Photom_Sources_Coordinates.txt', sep = ' ', index_col = 0)\n",
    "\n",
    "spec_ra, spec_dec = spectra_df['ra'].values, spectra_df['dec'].values\n",
    "\n",
    "photom_ra, photom_dec = photom_df['ALPHA_DETECTION'].values, photom_df['DELTA_DETECTION'].values"
   ]
  },
  {
   "cell_type": "code",
   "execution_count": null,
   "metadata": {},
   "outputs": [],
   "source": [
    "catalog1 = SkyCoord(ra = spec_ra * u.degree, \n",
    "                    dec = spec_dec * u.degree)\n",
    "\n",
    "catalog2 = SkyCoord(ra = photom_ra * u.degree, \n",
    "                    dec = photom_dec * u.degree)\n",
    "\n",
    "#We try to find matches *to* catalog 1 *from* catalog2, that is we are finding closest match from catalog2 to catalog1\n",
    "idx, sep2d, _ = catalog1.match_to_catalog_sky(catalog2)\n",
    "\n",
    "\n",
    "#idx is the index in catalog 2 that was the closest match to the coordinates in catalog1\n",
    "#sep2d is the separation between the closest match, defaults to degrees\n",
    "#sep3d the 3d separation only useful if you have distance in SkyCoord, not useful here\n",
    "\n",
    "matches_to_cat1 = catalog2[idx]\n",
    "\n",
    "close_matches_mask = sep2d.arcsec < 0.5 # checking which coordinates are w/in 0.5 arcsec of one another\n",
    "\n",
    "#applying mask to catalog 1\n",
    "print('Matches in Catalog 1 within 0.5 arcsec: ')\n",
    "print(catalog1[close_matches_mask])\n",
    "print()\n",
    "\n",
    "#applying mask to matches in catalog2\n",
    "print('Matches in Catalog 2 within 0.5 arcsec: ')\n",
    "print(matches_to_cat1[close_matches_mask])\n",
    "print()\n",
    "\n",
    "print(catalog1[close_matches_mask].separation(matches_to_cat1[close_matches_mask]).deg)"
   ]
  },
  {
   "cell_type": "code",
   "execution_count": null,
   "metadata": {},
   "outputs": [],
   "source": [
    "#quick check how things worked\n",
    "fig, ax = plt.subplots(1,2, figsize =(10,5), sharey = True)\n",
    "\n",
    "ax[0].scatter(catalog1.ra, catalog1.dec, s =1, marker = ',', color = 'red', label = 'Cat1', zorder = 20)\n",
    "ax[0].scatter(catalog2.ra, catalog2.dec, s =1, marker = ',', color = 'blue', label = 'Cat2')\n",
    "#ax[0].legend()\n",
    "\n",
    "\n",
    "ax[1].scatter(catalog1.ra[close_matches_mask], catalog1.dec[close_matches_mask], s =0.5, color = 'red', label = 'Cat1')\n",
    "ax[1].scatter(matches_to_cat1.ra[close_matches_mask], matches_to_cat1.dec[close_matches_mask], s =0.5, color = 'blue', label = 'Cat2',zorder = -10)\n",
    "#ax[1].legend()\n",
    "\n",
    "ax[1].set_xlabel('RA (deg)')\n",
    "ax[0].set_xlabel('RA (deg)')\n",
    "\n",
    "ax[0].set_ylabel('DEC (deg)')\n",
    "\n",
    "plt.subplots_adjust(top=0.92, bottom=0.08, left=0.10, right=0.95, hspace=0.0,\n",
    "                    wspace=0.0)"
   ]
  },
  {
   "cell_type": "markdown",
   "metadata": {},
   "source": [
    "# Astropy Tables\n",
    "\n",
    "The next major thing to know about is using astropy tables. These tables will be some of the data that may be stored in FITS files which we will cover in the next section. This section will teach you how to make an astropy table, and append values to it. "
   ]
  },
  {
   "cell_type": "code",
   "execution_count": null,
   "metadata": {},
   "outputs": [],
   "source": [
    "from astropy.table import QTable, Table, Column, vstack, hstack, join"
   ]
  },
  {
   "cell_type": "code",
   "execution_count": null,
   "metadata": {},
   "outputs": [],
   "source": [
    "#Creating a Table Numero 1\n",
    "\n",
    "#creates an empty table\n",
    "t = Table()\n",
    "\n",
    "#fills in the table with data with the columns being 'a', 'b', and 'c'\n",
    "# with the corresponding data for each column\n",
    "t['a'] = [1, 4]\n",
    "t['b'] = [2.0, 5.0]\n",
    "t['c'] = ['x', 'y']"
   ]
  },
  {
   "cell_type": "code",
   "execution_count": null,
   "metadata": {},
   "outputs": [],
   "source": [
    "#Creating a Table Numero 2\n",
    "\n",
    "#we make our three columns into arrays\n",
    "a = np.array([1, 4], dtype=np.int32)\n",
    "b = [2.0, 5.0]\n",
    "c = ['x', 'y']\n",
    "\n",
    "#generate the table below with the arrays as the columns and the names of the columns\n",
    "#in the names \n",
    "t = Table([a, b, c], names=('a', 'b', 'c'))"
   ]
  },
  {
   "cell_type": "code",
   "execution_count": null,
   "metadata": {},
   "outputs": [],
   "source": [
    "#Creating a Table Numero 3\n",
    "\n",
    "#this is using a mehtod called dictionaries which are a type of containers \n",
    "#they use a key to access data with the first entry the key and the next value the data\n",
    "#we can see in this one that the keys become the columns names and that the data becomes\n",
    "#the data in the columns\n",
    "arr = {'a': np.array([1, 4], dtype=np.int32),\n",
    "        'b': [2.0, 5.0],\n",
    "        'c': ['x', 'y']}\n",
    "\n",
    "Table(arr)"
   ]
  },
  {
   "cell_type": "markdown",
   "metadata": {},
   "source": [
    "There is no right or wrong way to generate an astropy table, it all comes down to personal preference and what data you are handling. Sometimes you do not know what data you will store so method 1 may be best, othertimes you may have data in the forms of dictionaries and so method 3 would work best here. "
   ]
  },
  {
   "cell_type": "markdown",
   "metadata": {},
   "source": [
    "# Getting values from the astropy table"
   ]
  },
  {
   "cell_type": "code",
   "execution_count": null,
   "metadata": {},
   "outputs": [],
   "source": [
    "arr = np.arange(15).reshape(5, 3)\n",
    "t = Table(arr, names=('a', 'b', 'c'), meta={'keywords': {'key1': 'val1'}})"
   ]
  },
  {
   "cell_type": "code",
   "execution_count": null,
   "metadata": {},
   "outputs": [],
   "source": [
    "t['a']       # Column 'a'\n",
    "t['a'][1]    # Row 1 of column 'a'\n",
    "t[1]         # Row 1\n",
    "t[1]['a']    # Column 'a' of row 1\n",
    "t[2:5]       # Table object with rows 2:5\n",
    "t[[1, 3, 4]]  # Table object with rows 1, 3, 4 (copy)\n",
    "t[np.array([1, 3, 4])]  # Table object with rows 1, 3, 4 (copy)\n",
    "t[[]]        # Same table definition but with no rows of data\n",
    "t['a', 'c']  # Table with cols 'a', 'c' (copy)\n",
    "dat = np.array(t)  # Copy table data to numpy structured array object\n",
    "t['a'].quantity  # an astropy.units.Quantity for Column 'a'\n",
    "t['a'] = t['a']*u.m\n",
    "t['a'].to('km')  # an astropy.units.Quantity for Column 'a' in units of kilometers\n",
    "t.columns[1]  # Column 1 (which is the 'b' column)\n",
    "t.columns[0:2]  # New table with columns 0 and 1"
   ]
  },
  {
   "cell_type": "markdown",
   "metadata": {},
   "source": [
    "### Most of the times, you don't need to create a table yourself, rather, you will need to read an existing table"
   ]
  },
  {
   "cell_type": "code",
   "execution_count": null,
   "metadata": {},
   "outputs": [],
   "source": [
    "#let's read the Stefanon+2017 catalog\n",
    "\n",
    "EGS_mass = Table.read('hlsp_candels_hst_wfc3_egs_v1_mass_cat.fits')\n",
    "\n",
    "EGS_mass.columns\n",
    "\n",
    "if 'ID' in list(EGS_mass.columns):\n",
    "    EGS_mass.rename_column('ID','c_ID')"
   ]
  },
  {
   "cell_type": "code",
   "execution_count": null,
   "metadata": {},
   "outputs": [],
   "source": [
    "# One I find really useful is to select from astropy table\n",
    "\n",
    "def make_cut(catalog, mass_key ,redshift_key):\n",
    "    \n",
    "    \"\"\"make cut of the catalog wrt mass and redshift\n",
    "    catalog: astropy Table\n",
    "    mass_key: 'string', name of the stellar mass column\n",
    "    redshift_key: 'string', name of the redshitf\n",
    "    \n",
    "    \"\"\"\n",
    "    \n",
    "    #change this below for desired cuts\n",
    "    mass_lim = 9\n",
    "    z_low =3\n",
    "    z_high = 3.5\n",
    "    \n",
    "    #selection\n",
    "    sel_mass = (catalog[mass_key]>=mass_lim)\n",
    "    sel_z = ((catalog[redshift_key]>=z_low) & (catalog[redshift_key]<=z_high))\n",
    "    \n",
    "    #combine selection\n",
    "    sel = sel_mass &sel_z\n",
    "    \n",
    "    print('Using CANDELS catalog, z range',z_low, ' to ' , z_high, ', lmass gt than ' , mass_lim)\n",
    "    \n",
    "    return sel\n",
    "\n",
    "\n",
    "catalog = EGS_mass\n",
    "mass_key ,redshift_key = 'M_neb_med', 'zbest'\n",
    "\n",
    "sel = make_cut(catalog, mass_key ,redshift_key)"
   ]
  },
  {
   "cell_type": "code",
   "execution_count": null,
   "metadata": {},
   "outputs": [],
   "source": [
    "EGS_mass_selection = EGS_mass[sel]\n"
   ]
  },
  {
   "cell_type": "markdown",
   "metadata": {},
   "source": [
    "### Exercise : \n",
    "    Select everything that has zbest > 3 and <=3.3\n",
    "    "
   ]
  },
  {
   "cell_type": "markdown",
   "metadata": {},
   "source": [
    "### Join"
   ]
  },
  {
   "cell_type": "code",
   "execution_count": null,
   "metadata": {},
   "outputs": [],
   "source": [
    "import astropy.io.ascii as Ascii\n",
    "cat_EGS ='./' #change this to your own directory\n",
    "EGS_sfr = Ascii.read(cat_EGS+'hlsp_candels_hst_wfc3_egs-barro19_multi_v1_sfr-egs-cat.txt')\n",
    "\n",
    "#This is an astropy table object\n",
    "EGS_sfr.rename_column('ID','c_ID')\n"
   ]
  },
  {
   "cell_type": "code",
   "execution_count": null,
   "metadata": {},
   "outputs": [],
   "source": []
  },
  {
   "cell_type": "code",
   "execution_count": null,
   "metadata": {},
   "outputs": [],
   "source": [
    "output_table =  join(EGS_mass_selection, EGS_sfr, keys = 'c_ID')\n",
    "#output_table =  join(EGS_mass_selection, EGS_sfr['c_ID','SFR-ladder_total'], keys = 'c_ID')\n"
   ]
  },
  {
   "cell_type": "code",
   "execution_count": null,
   "metadata": {},
   "outputs": [],
   "source": [
    "#This suppose to be an interactive session, but it failed to work on my labtop\n",
    "output_table[0:10].show_in_notebook()\n"
   ]
  },
  {
   "cell_type": "code",
   "execution_count": null,
   "metadata": {},
   "outputs": [],
   "source": [
    "# write the table to a file\n",
    "output_table.write('test.fits', overwrite = True)"
   ]
  },
  {
   "cell_type": "code",
   "execution_count": null,
   "metadata": {},
   "outputs": [],
   "source": [
    "output_table.columns"
   ]
  },
  {
   "cell_type": "markdown",
   "metadata": {},
   "source": [
    "### Excersize\n",
    "        1. Read the table you just saved\n",
    "        2. rename 'SFR-ladder_total' to 'sfr_tot'\n",
    "        3. Read 'Example_catalog_with_zspec_no_ID.fits'\n",
    "        4. match the sources in Example_catalog_with_zspec_no_ID.fits with sources the table you just saved, the seperation is < 0.25 arcsec\n",
    "        5. to confirm you did this correctly, make a plot or give me some stats (e.g., you can show the difference in RA or in Dec is on average every small)\n",
    "    \n",
    "    "
   ]
  },
  {
   "cell_type": "markdown",
   "metadata": {},
   "source": [
    "# FITS Files\n",
    "\n",
    "Astropy can read in FITS files, which is a typical format of astronomical images. FITS stands for Flexible Image Transport System, and most basic image viewers can't do anything with them since they aren't files like JPGs or GIFs. There are a few programs that will read them, including CASA if you're a radio astronomer, or DS9.\n",
    "\n",
    "FITS is a useful format for astronomical data because it contains a lot of behind the scenes information. The header in particular will usually give you information about the telescope the data is from, the reference position in the sky for the data, the pixel scale, the size of the image, and more! First, let's import the package."
   ]
  },
  {
   "cell_type": "code",
   "execution_count": null,
   "metadata": {},
   "outputs": [],
   "source": [
    "from astropy.io import fits"
   ]
  },
  {
   "cell_type": "markdown",
   "metadata": {},
   "source": [
    "Let's step through how to work with the files I've given you to work with. First, open the file using fits.open(). To get some basic information about the file, type fitsfile.info()."
   ]
  },
  {
   "cell_type": "code",
   "execution_count": null,
   "metadata": {},
   "outputs": [],
   "source": [
    "hdulist = fits.open('f001a066.fits') #B filter image of Andromeda\n",
    "hdulist.info()"
   ]
  },
  {
   "cell_type": "markdown",
   "metadata": {},
   "source": [
    "The actual information of interest is contained in the header. FITS files can contain many images in the same file, but this is a 2D image, so it only contains one slice. We will still have to specify that it's the first slice, so we call \"hdulist[0]\". Note that you can do a shortcut in the first place and place the [0] at the end of fits.open(). \n",
    "\n",
    "Let's read out the header:"
   ]
  },
  {
   "cell_type": "code",
   "execution_count": null,
   "metadata": {},
   "outputs": [],
   "source": [
    "hdulist[0].header"
   ]
  },
  {
   "cell_type": "markdown",
   "metadata": {},
   "source": [
    "Now we know a little bit about what we're working with. You'll have to check headers pretty frequently so I'd commit this step to memory!\n",
    "\n",
    "Now we can access the data contained in the FITS file. The values are typically units of brightness and the positions in the matrix are the pixel values, with (0, 0) in the bottom left. You can manipulate this matrix like you would with any array. "
   ]
  },
  {
   "cell_type": "code",
   "execution_count": null,
   "metadata": {},
   "outputs": [],
   "source": [
    "img_data = hdulist[0].data"
   ]
  },
  {
   "cell_type": "code",
   "execution_count": null,
   "metadata": {},
   "outputs": [],
   "source": [
    "plt.imshow(img_data, origin = 'lower')"
   ]
  },
  {
   "cell_type": "markdown",
   "metadata": {},
   "source": [
    "# Exercises"
   ]
  },
  {
   "cell_type": "markdown",
   "metadata": {},
   "source": [
    "## Exercise 1\n",
    "Let's practice some more plotting skills, now incorporating units.\n",
    "\n",
    "A. Write a function that takes an array of frequencies and spits out the Planck distribution. That's this equation:\n",
    "\n",
    "$ B(\\nu, T) = \\frac{2h\\nu^3/c^2}{e^{\\frac{h\\nu}{k_B T}} - 1}$\n",
    " \n",
    " \n",
    "This requires you to use the Planck constant, the Boltzmann constant, and the speed of light from astropy. Make sure they are all in cgs.\n",
    "\n",
    "B. Plot your function in log-log space for T = 25, 50, and 300 K. The most sensible frequency range is about $10^5$ to $10^{15}$ Hz. Hint: if your units are correct, your peak values of B(T) should be on the order of $10^{-10}$. Make sure everything is labelled."
   ]
  },
  {
   "cell_type": "code",
   "execution_count": null,
   "metadata": {},
   "outputs": [],
   "source": []
  },
  {
   "cell_type": "markdown",
   "metadata": {},
   "source": [
    "# Exercise 2\n",
    "\n",
    "Let's put everything together now! Here's a link to the full documentation for FITSFigure, which will tell you all of the customizable options: http://aplpy.readthedocs.io/en/stable/api/aplpy.FITSFigure.html. Let's create a nice plot of M51 with a background optical image and X-ray contours overplotted.\n",
    "\n",
    "The data came from here if you're interested: http://chandra.harvard.edu/photo/openFITS/multiwavelength_data.html\n",
    "\n",
    "A. Using astropy, open the X-RAY data (m51_xray.fits). Flatten the data array and find its standard deviation, and call it sigma. Use arrayname.flatten() to do this : https://numpy.org/doc/stable/reference/generated/numpy.ndarray.flatten.html\n",
    "\n",
    "\n",
    "B. Use plt.imshow() to present the image. You can find more information in the semianr 3 part II we covered.\n",
    "Add contour to this image too, set levels= [3sigma], and colors = red)"
   ]
  },
  {
   "cell_type": "code",
   "execution_count": null,
   "metadata": {},
   "outputs": [],
   "source": []
  },
  {
   "cell_type": "code",
   "execution_count": null,
   "metadata": {},
   "outputs": [],
   "source": []
  },
  {
   "cell_type": "code",
   "execution_count": null,
   "metadata": {},
   "outputs": [],
   "source": []
  },
  {
   "cell_type": "code",
   "execution_count": null,
   "metadata": {},
   "outputs": [],
   "source": []
  }
 ],
 "metadata": {
  "kernelspec": {
   "display_name": "Python 3 (ipykernel)",
   "language": "python",
   "name": "python3"
  },
  "language_info": {
   "codemirror_mode": {
    "name": "ipython",
    "version": 3
   },
   "file_extension": ".py",
   "mimetype": "text/x-python",
   "name": "python",
   "nbconvert_exporter": "python",
   "pygments_lexer": "ipython3",
   "version": "3.11.7"
  }
 },
 "nbformat": 4,
 "nbformat_minor": 4
}
